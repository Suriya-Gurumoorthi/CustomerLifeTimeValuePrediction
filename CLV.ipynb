{
 "cells": [
  {
   "cell_type": "code",
   "execution_count": 1,
   "id": "531c1165",
   "metadata": {},
   "outputs": [],
   "source": [
    "import numpy as np\n",
    "import pandas as pd\n",
    "import matplotlib.pyplot as plt\n",
    "import seaborn as sns\n",
    "import plotly.express as px\n",
    "import plotly.io as pio\n",
    "import plotly.graph_objects as go\n",
    "from datetime import datetime\n",
    "import warnings\n",
    "warnings.filterwarnings(\"ignore\")\n",
    "pio.templates.default = 'plotly_white'"
   ]
  },
  {
   "cell_type": "code",
   "execution_count": 2,
   "id": "b3afd6bd",
   "metadata": {},
   "outputs": [],
   "source": [
    "df = pd.read_excel(\"CLV.xlsx\")"
   ]
  },
  {
   "cell_type": "code",
   "execution_count": null,
   "id": "7f46b1dd",
   "metadata": {},
   "outputs": [],
   "source": [
    "df.head()"
   ]
  },
  {
   "cell_type": "code",
   "execution_count": 3,
   "id": "9d355edd",
   "metadata": {},
   "outputs": [
    {
     "name": "stdout",
     "output_type": "stream",
     "text": [
      "Customer ID    20.54\n",
      "Description     0.56\n",
      "Invoice         0.00\n",
      "StockCode       0.00\n",
      "Quantity        0.00\n",
      "InvoiceDate     0.00\n",
      "Price           0.00\n",
      "Country         0.00\n",
      "dtype: float64\n"
     ]
    }
   ],
   "source": [
    "def missing(dff):\n",
    "    print (round((dff.isnull().sum() * 100/ len(dff)),2).sort_values(ascending=False))\n",
    "missing(df)"
   ]
  },
  {
   "cell_type": "markdown",
   "id": "e2a864cd",
   "metadata": {},
   "source": [
    "# Data Cleaning"
   ]
  },
  {
   "cell_type": "code",
   "execution_count": null,
   "id": "aec5b5df",
   "metadata": {
    "scrolled": true
   },
   "outputs": [],
   "source": [
    "df.shape"
   ]
  },
  {
   "cell_type": "code",
   "execution_count": 4,
   "id": "92a72e34",
   "metadata": {},
   "outputs": [],
   "source": [
    "df.dropna(inplace=True)"
   ]
  },
  {
   "cell_type": "code",
   "execution_count": null,
   "id": "cd2fe850",
   "metadata": {},
   "outputs": [],
   "source": [
    "df.shape"
   ]
  },
  {
   "cell_type": "code",
   "execution_count": 5,
   "id": "4484d516",
   "metadata": {},
   "outputs": [
    {
     "name": "stdout",
     "output_type": "stream",
     "text": [
      "Invoice        0.0\n",
      "StockCode      0.0\n",
      "Description    0.0\n",
      "Quantity       0.0\n",
      "InvoiceDate    0.0\n",
      "Price          0.0\n",
      "Customer ID    0.0\n",
      "Country        0.0\n",
      "dtype: float64\n"
     ]
    }
   ],
   "source": [
    "def missing(dff):\n",
    "    print (round((dff.isnull().sum() * 100/ len(dff)),2).sort_values(ascending=False))\n",
    "missing(df)"
   ]
  },
  {
   "cell_type": "code",
   "execution_count": null,
   "id": "817b4311",
   "metadata": {},
   "outputs": [],
   "source": [
    "df.describe()"
   ]
  },
  {
   "cell_type": "code",
   "execution_count": 6,
   "id": "8706824a",
   "metadata": {},
   "outputs": [],
   "source": [
    "df['Date'] = df['InvoiceDate'].astype(str).str.split(' ').str[0]"
   ]
  },
  {
   "cell_type": "code",
   "execution_count": null,
   "id": "e89bdd52",
   "metadata": {},
   "outputs": [],
   "source": [
    "df.head()"
   ]
  },
  {
   "cell_type": "code",
   "execution_count": 7,
   "id": "28d812d1",
   "metadata": {},
   "outputs": [],
   "source": [
    "df.drop(columns = \"InvoiceDate\",inplace=True)"
   ]
  },
  {
   "cell_type": "code",
   "execution_count": null,
   "id": "44a663de",
   "metadata": {},
   "outputs": [],
   "source": [
    "df.head()"
   ]
  },
  {
   "cell_type": "markdown",
   "id": "1e521b85",
   "metadata": {},
   "source": [
    "# RFM Analysis"
   ]
  },
  {
   "cell_type": "code",
   "execution_count": 8,
   "id": "7eed3c7d",
   "metadata": {},
   "outputs": [],
   "source": [
    "df['Date']=pd.to_datetime(df['Date'])"
   ]
  },
  {
   "cell_type": "code",
   "execution_count": 9,
   "id": "c3b980ba",
   "metadata": {},
   "outputs": [],
   "source": [
    "df['Recency'] = (datetime.now().date()-df['Date'].dt.date).dt.days"
   ]
  },
  {
   "cell_type": "code",
   "execution_count": 10,
   "id": "94626092",
   "metadata": {},
   "outputs": [],
   "source": [
    "frequency_data = df.groupby(\"Customer ID\")['Invoice'].count().reset_index()\n",
    "frequency_data.rename(columns={\"Invoice\":\"Frequency\"},inplace=True)\n",
    "df = df.merge(frequency_data, on=\"Customer ID\",how='left')"
   ]
  },
  {
   "cell_type": "code",
   "execution_count": 11,
   "id": "34e3cfe0",
   "metadata": {},
   "outputs": [
    {
     "data": {
      "text/html": [
       "<div>\n",
       "<style scoped>\n",
       "    .dataframe tbody tr th:only-of-type {\n",
       "        vertical-align: middle;\n",
       "    }\n",
       "\n",
       "    .dataframe tbody tr th {\n",
       "        vertical-align: top;\n",
       "    }\n",
       "\n",
       "    .dataframe thead th {\n",
       "        text-align: right;\n",
       "    }\n",
       "</style>\n",
       "<table border=\"1\" class=\"dataframe\">\n",
       "  <thead>\n",
       "    <tr style=\"text-align: right;\">\n",
       "      <th></th>\n",
       "      <th>Invoice</th>\n",
       "      <th>StockCode</th>\n",
       "      <th>Description</th>\n",
       "      <th>Quantity</th>\n",
       "      <th>Price</th>\n",
       "      <th>Customer ID</th>\n",
       "      <th>Country</th>\n",
       "      <th>Date</th>\n",
       "      <th>Recency</th>\n",
       "      <th>Frequency</th>\n",
       "    </tr>\n",
       "  </thead>\n",
       "  <tbody>\n",
       "    <tr>\n",
       "      <th>0</th>\n",
       "      <td>489434</td>\n",
       "      <td>85048</td>\n",
       "      <td>15CM CHRISTMAS GLASS BALL 20 LIGHTS</td>\n",
       "      <td>12</td>\n",
       "      <td>6.95</td>\n",
       "      <td>13085.0</td>\n",
       "      <td>United Kingdom</td>\n",
       "      <td>2009-12-01</td>\n",
       "      <td>5100</td>\n",
       "      <td>63</td>\n",
       "    </tr>\n",
       "    <tr>\n",
       "      <th>1</th>\n",
       "      <td>489434</td>\n",
       "      <td>79323P</td>\n",
       "      <td>PINK CHERRY LIGHTS</td>\n",
       "      <td>12</td>\n",
       "      <td>6.75</td>\n",
       "      <td>13085.0</td>\n",
       "      <td>United Kingdom</td>\n",
       "      <td>2009-12-01</td>\n",
       "      <td>5100</td>\n",
       "      <td>63</td>\n",
       "    </tr>\n",
       "    <tr>\n",
       "      <th>2</th>\n",
       "      <td>489434</td>\n",
       "      <td>79323W</td>\n",
       "      <td>WHITE CHERRY LIGHTS</td>\n",
       "      <td>12</td>\n",
       "      <td>6.75</td>\n",
       "      <td>13085.0</td>\n",
       "      <td>United Kingdom</td>\n",
       "      <td>2009-12-01</td>\n",
       "      <td>5100</td>\n",
       "      <td>63</td>\n",
       "    </tr>\n",
       "    <tr>\n",
       "      <th>3</th>\n",
       "      <td>489434</td>\n",
       "      <td>22041</td>\n",
       "      <td>RECORD FRAME 7\" SINGLE SIZE</td>\n",
       "      <td>48</td>\n",
       "      <td>2.10</td>\n",
       "      <td>13085.0</td>\n",
       "      <td>United Kingdom</td>\n",
       "      <td>2009-12-01</td>\n",
       "      <td>5100</td>\n",
       "      <td>63</td>\n",
       "    </tr>\n",
       "    <tr>\n",
       "      <th>4</th>\n",
       "      <td>489434</td>\n",
       "      <td>21232</td>\n",
       "      <td>STRAWBERRY CERAMIC TRINKET BOX</td>\n",
       "      <td>24</td>\n",
       "      <td>1.25</td>\n",
       "      <td>13085.0</td>\n",
       "      <td>United Kingdom</td>\n",
       "      <td>2009-12-01</td>\n",
       "      <td>5100</td>\n",
       "      <td>63</td>\n",
       "    </tr>\n",
       "  </tbody>\n",
       "</table>\n",
       "</div>"
      ],
      "text/plain": [
       "  Invoice StockCode                          Description  Quantity  Price  \\\n",
       "0  489434     85048  15CM CHRISTMAS GLASS BALL 20 LIGHTS        12   6.95   \n",
       "1  489434    79323P                   PINK CHERRY LIGHTS        12   6.75   \n",
       "2  489434    79323W                  WHITE CHERRY LIGHTS        12   6.75   \n",
       "3  489434     22041         RECORD FRAME 7\" SINGLE SIZE         48   2.10   \n",
       "4  489434     21232       STRAWBERRY CERAMIC TRINKET BOX        24   1.25   \n",
       "\n",
       "   Customer ID         Country       Date  Recency  Frequency  \n",
       "0      13085.0  United Kingdom 2009-12-01     5100         63  \n",
       "1      13085.0  United Kingdom 2009-12-01     5100         63  \n",
       "2      13085.0  United Kingdom 2009-12-01     5100         63  \n",
       "3      13085.0  United Kingdom 2009-12-01     5100         63  \n",
       "4      13085.0  United Kingdom 2009-12-01     5100         63  "
      ]
     },
     "execution_count": 11,
     "metadata": {},
     "output_type": "execute_result"
    }
   ],
   "source": [
    "df.head()"
   ]
  },
  {
   "cell_type": "code",
   "execution_count": 12,
   "id": "cccccb18",
   "metadata": {},
   "outputs": [],
   "source": [
    "df['Total'] = df['Quantity'] * df['Price']"
   ]
  },
  {
   "cell_type": "code",
   "execution_count": 13,
   "id": "c890e33f",
   "metadata": {},
   "outputs": [],
   "source": [
    "monetary_data = df.groupby(\"Customer ID\")['Total'].sum().reset_index()\n",
    "monetary_data.rename(columns={'Total':'MonetaryValue'},inplace=True)\n",
    "df = df.merge(monetary_data,on='Customer ID',how='left')"
   ]
  },
  {
   "cell_type": "code",
   "execution_count": 14,
   "id": "175019b5",
   "metadata": {},
   "outputs": [
    {
     "data": {
      "text/html": [
       "<div>\n",
       "<style scoped>\n",
       "    .dataframe tbody tr th:only-of-type {\n",
       "        vertical-align: middle;\n",
       "    }\n",
       "\n",
       "    .dataframe tbody tr th {\n",
       "        vertical-align: top;\n",
       "    }\n",
       "\n",
       "    .dataframe thead th {\n",
       "        text-align: right;\n",
       "    }\n",
       "</style>\n",
       "<table border=\"1\" class=\"dataframe\">\n",
       "  <thead>\n",
       "    <tr style=\"text-align: right;\">\n",
       "      <th></th>\n",
       "      <th>Invoice</th>\n",
       "      <th>StockCode</th>\n",
       "      <th>Description</th>\n",
       "      <th>Quantity</th>\n",
       "      <th>Price</th>\n",
       "      <th>Customer ID</th>\n",
       "      <th>Country</th>\n",
       "      <th>Date</th>\n",
       "      <th>Recency</th>\n",
       "      <th>Frequency</th>\n",
       "      <th>Total</th>\n",
       "      <th>MonetaryValue</th>\n",
       "    </tr>\n",
       "  </thead>\n",
       "  <tbody>\n",
       "    <tr>\n",
       "      <th>0</th>\n",
       "      <td>489434</td>\n",
       "      <td>85048</td>\n",
       "      <td>15CM CHRISTMAS GLASS BALL 20 LIGHTS</td>\n",
       "      <td>12</td>\n",
       "      <td>6.95</td>\n",
       "      <td>13085.0</td>\n",
       "      <td>United Kingdom</td>\n",
       "      <td>2009-12-01</td>\n",
       "      <td>5100</td>\n",
       "      <td>63</td>\n",
       "      <td>83.4</td>\n",
       "      <td>1187.08</td>\n",
       "    </tr>\n",
       "    <tr>\n",
       "      <th>1</th>\n",
       "      <td>489434</td>\n",
       "      <td>79323P</td>\n",
       "      <td>PINK CHERRY LIGHTS</td>\n",
       "      <td>12</td>\n",
       "      <td>6.75</td>\n",
       "      <td>13085.0</td>\n",
       "      <td>United Kingdom</td>\n",
       "      <td>2009-12-01</td>\n",
       "      <td>5100</td>\n",
       "      <td>63</td>\n",
       "      <td>81.0</td>\n",
       "      <td>1187.08</td>\n",
       "    </tr>\n",
       "    <tr>\n",
       "      <th>2</th>\n",
       "      <td>489434</td>\n",
       "      <td>79323W</td>\n",
       "      <td>WHITE CHERRY LIGHTS</td>\n",
       "      <td>12</td>\n",
       "      <td>6.75</td>\n",
       "      <td>13085.0</td>\n",
       "      <td>United Kingdom</td>\n",
       "      <td>2009-12-01</td>\n",
       "      <td>5100</td>\n",
       "      <td>63</td>\n",
       "      <td>81.0</td>\n",
       "      <td>1187.08</td>\n",
       "    </tr>\n",
       "    <tr>\n",
       "      <th>3</th>\n",
       "      <td>489434</td>\n",
       "      <td>22041</td>\n",
       "      <td>RECORD FRAME 7\" SINGLE SIZE</td>\n",
       "      <td>48</td>\n",
       "      <td>2.10</td>\n",
       "      <td>13085.0</td>\n",
       "      <td>United Kingdom</td>\n",
       "      <td>2009-12-01</td>\n",
       "      <td>5100</td>\n",
       "      <td>63</td>\n",
       "      <td>100.8</td>\n",
       "      <td>1187.08</td>\n",
       "    </tr>\n",
       "    <tr>\n",
       "      <th>4</th>\n",
       "      <td>489434</td>\n",
       "      <td>21232</td>\n",
       "      <td>STRAWBERRY CERAMIC TRINKET BOX</td>\n",
       "      <td>24</td>\n",
       "      <td>1.25</td>\n",
       "      <td>13085.0</td>\n",
       "      <td>United Kingdom</td>\n",
       "      <td>2009-12-01</td>\n",
       "      <td>5100</td>\n",
       "      <td>63</td>\n",
       "      <td>30.0</td>\n",
       "      <td>1187.08</td>\n",
       "    </tr>\n",
       "  </tbody>\n",
       "</table>\n",
       "</div>"
      ],
      "text/plain": [
       "  Invoice StockCode                          Description  Quantity  Price  \\\n",
       "0  489434     85048  15CM CHRISTMAS GLASS BALL 20 LIGHTS        12   6.95   \n",
       "1  489434    79323P                   PINK CHERRY LIGHTS        12   6.75   \n",
       "2  489434    79323W                  WHITE CHERRY LIGHTS        12   6.75   \n",
       "3  489434     22041         RECORD FRAME 7\" SINGLE SIZE         48   2.10   \n",
       "4  489434     21232       STRAWBERRY CERAMIC TRINKET BOX        24   1.25   \n",
       "\n",
       "   Customer ID         Country       Date  Recency  Frequency  Total  \\\n",
       "0      13085.0  United Kingdom 2009-12-01     5100         63   83.4   \n",
       "1      13085.0  United Kingdom 2009-12-01     5100         63   81.0   \n",
       "2      13085.0  United Kingdom 2009-12-01     5100         63   81.0   \n",
       "3      13085.0  United Kingdom 2009-12-01     5100         63  100.8   \n",
       "4      13085.0  United Kingdom 2009-12-01     5100         63   30.0   \n",
       "\n",
       "   MonetaryValue  \n",
       "0        1187.08  \n",
       "1        1187.08  \n",
       "2        1187.08  \n",
       "3        1187.08  \n",
       "4        1187.08  "
      ]
     },
     "execution_count": 14,
     "metadata": {},
     "output_type": "execute_result"
    }
   ],
   "source": [
    "df.head()"
   ]
  },
  {
   "cell_type": "code",
   "execution_count": 15,
   "id": "633a3214",
   "metadata": {},
   "outputs": [],
   "source": [
    "recency_scores = [5,4,3,2,1]\n",
    "frequency_scores = [1,2,3,4,5]\n",
    "monetary_scores = [1,2,3,4,5]"
   ]
  },
  {
   "cell_type": "code",
   "execution_count": 16,
   "id": "f84bcf66",
   "metadata": {},
   "outputs": [],
   "source": [
    "df['Recency_scores'] = pd.cut(df['Recency'],bins=5,labels = recency_scores)\n",
    "df['Frequency_scores'] = pd.cut(df['Frequency'],bins=5,labels = frequency_scores)\n",
    "df['Monetary_scores'] = pd.cut(df['MonetaryValue'],bins=5,labels = monetary_scores)"
   ]
  },
  {
   "cell_type": "code",
   "execution_count": 17,
   "id": "8c266ca9",
   "metadata": {},
   "outputs": [],
   "source": [
    "df['Recency_scores']=df['Recency_scores'].astype(int)\n",
    "df['Frequency_scores']=df['Frequency_scores'].astype(int)\n",
    "df['Monetary_scores']=df['Monetary_scores'].astype(int)"
   ]
  },
  {
   "cell_type": "code",
   "execution_count": 18,
   "id": "986d33c8",
   "metadata": {},
   "outputs": [
    {
     "data": {
      "text/html": [
       "<div>\n",
       "<style scoped>\n",
       "    .dataframe tbody tr th:only-of-type {\n",
       "        vertical-align: middle;\n",
       "    }\n",
       "\n",
       "    .dataframe tbody tr th {\n",
       "        vertical-align: top;\n",
       "    }\n",
       "\n",
       "    .dataframe thead th {\n",
       "        text-align: right;\n",
       "    }\n",
       "</style>\n",
       "<table border=\"1\" class=\"dataframe\">\n",
       "  <thead>\n",
       "    <tr style=\"text-align: right;\">\n",
       "      <th></th>\n",
       "      <th>Invoice</th>\n",
       "      <th>StockCode</th>\n",
       "      <th>Description</th>\n",
       "      <th>Quantity</th>\n",
       "      <th>Price</th>\n",
       "      <th>Customer ID</th>\n",
       "      <th>Country</th>\n",
       "      <th>Date</th>\n",
       "      <th>Recency</th>\n",
       "      <th>Frequency</th>\n",
       "      <th>Total</th>\n",
       "      <th>MonetaryValue</th>\n",
       "      <th>Recency_scores</th>\n",
       "      <th>Frequency_scores</th>\n",
       "      <th>Monetary_scores</th>\n",
       "    </tr>\n",
       "  </thead>\n",
       "  <tbody>\n",
       "    <tr>\n",
       "      <th>0</th>\n",
       "      <td>489434</td>\n",
       "      <td>85048</td>\n",
       "      <td>15CM CHRISTMAS GLASS BALL 20 LIGHTS</td>\n",
       "      <td>12</td>\n",
       "      <td>6.95</td>\n",
       "      <td>13085.0</td>\n",
       "      <td>United Kingdom</td>\n",
       "      <td>2009-12-01</td>\n",
       "      <td>5100</td>\n",
       "      <td>63</td>\n",
       "      <td>83.4</td>\n",
       "      <td>1187.08</td>\n",
       "      <td>1</td>\n",
       "      <td>1</td>\n",
       "      <td>1</td>\n",
       "    </tr>\n",
       "    <tr>\n",
       "      <th>1</th>\n",
       "      <td>489434</td>\n",
       "      <td>79323P</td>\n",
       "      <td>PINK CHERRY LIGHTS</td>\n",
       "      <td>12</td>\n",
       "      <td>6.75</td>\n",
       "      <td>13085.0</td>\n",
       "      <td>United Kingdom</td>\n",
       "      <td>2009-12-01</td>\n",
       "      <td>5100</td>\n",
       "      <td>63</td>\n",
       "      <td>81.0</td>\n",
       "      <td>1187.08</td>\n",
       "      <td>1</td>\n",
       "      <td>1</td>\n",
       "      <td>1</td>\n",
       "    </tr>\n",
       "    <tr>\n",
       "      <th>2</th>\n",
       "      <td>489434</td>\n",
       "      <td>79323W</td>\n",
       "      <td>WHITE CHERRY LIGHTS</td>\n",
       "      <td>12</td>\n",
       "      <td>6.75</td>\n",
       "      <td>13085.0</td>\n",
       "      <td>United Kingdom</td>\n",
       "      <td>2009-12-01</td>\n",
       "      <td>5100</td>\n",
       "      <td>63</td>\n",
       "      <td>81.0</td>\n",
       "      <td>1187.08</td>\n",
       "      <td>1</td>\n",
       "      <td>1</td>\n",
       "      <td>1</td>\n",
       "    </tr>\n",
       "    <tr>\n",
       "      <th>3</th>\n",
       "      <td>489434</td>\n",
       "      <td>22041</td>\n",
       "      <td>RECORD FRAME 7\" SINGLE SIZE</td>\n",
       "      <td>48</td>\n",
       "      <td>2.10</td>\n",
       "      <td>13085.0</td>\n",
       "      <td>United Kingdom</td>\n",
       "      <td>2009-12-01</td>\n",
       "      <td>5100</td>\n",
       "      <td>63</td>\n",
       "      <td>100.8</td>\n",
       "      <td>1187.08</td>\n",
       "      <td>1</td>\n",
       "      <td>1</td>\n",
       "      <td>1</td>\n",
       "    </tr>\n",
       "    <tr>\n",
       "      <th>4</th>\n",
       "      <td>489434</td>\n",
       "      <td>21232</td>\n",
       "      <td>STRAWBERRY CERAMIC TRINKET BOX</td>\n",
       "      <td>24</td>\n",
       "      <td>1.25</td>\n",
       "      <td>13085.0</td>\n",
       "      <td>United Kingdom</td>\n",
       "      <td>2009-12-01</td>\n",
       "      <td>5100</td>\n",
       "      <td>63</td>\n",
       "      <td>30.0</td>\n",
       "      <td>1187.08</td>\n",
       "      <td>1</td>\n",
       "      <td>1</td>\n",
       "      <td>1</td>\n",
       "    </tr>\n",
       "  </tbody>\n",
       "</table>\n",
       "</div>"
      ],
      "text/plain": [
       "  Invoice StockCode                          Description  Quantity  Price  \\\n",
       "0  489434     85048  15CM CHRISTMAS GLASS BALL 20 LIGHTS        12   6.95   \n",
       "1  489434    79323P                   PINK CHERRY LIGHTS        12   6.75   \n",
       "2  489434    79323W                  WHITE CHERRY LIGHTS        12   6.75   \n",
       "3  489434     22041         RECORD FRAME 7\" SINGLE SIZE         48   2.10   \n",
       "4  489434     21232       STRAWBERRY CERAMIC TRINKET BOX        24   1.25   \n",
       "\n",
       "   Customer ID         Country       Date  Recency  Frequency  Total  \\\n",
       "0      13085.0  United Kingdom 2009-12-01     5100         63   83.4   \n",
       "1      13085.0  United Kingdom 2009-12-01     5100         63   81.0   \n",
       "2      13085.0  United Kingdom 2009-12-01     5100         63   81.0   \n",
       "3      13085.0  United Kingdom 2009-12-01     5100         63  100.8   \n",
       "4      13085.0  United Kingdom 2009-12-01     5100         63   30.0   \n",
       "\n",
       "   MonetaryValue  Recency_scores  Frequency_scores  Monetary_scores  \n",
       "0        1187.08               1                 1                1  \n",
       "1        1187.08               1                 1                1  \n",
       "2        1187.08               1                 1                1  \n",
       "3        1187.08               1                 1                1  \n",
       "4        1187.08               1                 1                1  "
      ]
     },
     "execution_count": 18,
     "metadata": {},
     "output_type": "execute_result"
    }
   ],
   "source": [
    "df.head()"
   ]
  },
  {
   "cell_type": "code",
   "execution_count": 19,
   "id": "7013c88f",
   "metadata": {},
   "outputs": [],
   "source": [
    "df['RFM_Score'] = df['Recency_scores'] + df['Frequency_scores'] + df['Monetary_scores']"
   ]
  },
  {
   "cell_type": "code",
   "execution_count": 20,
   "id": "dfb84420",
   "metadata": {},
   "outputs": [],
   "source": [
    "segment_labels = ['LOW','MEDIUM','HIGH']\n",
    "df['ValueSegment'] = pd.qcut(df['RFM_Score'],q=3,labels=segment_labels)"
   ]
  },
  {
   "cell_type": "code",
   "execution_count": 21,
   "id": "f7b1cc8b",
   "metadata": {},
   "outputs": [
    {
     "data": {
      "text/html": [
       "<div>\n",
       "<style scoped>\n",
       "    .dataframe tbody tr th:only-of-type {\n",
       "        vertical-align: middle;\n",
       "    }\n",
       "\n",
       "    .dataframe tbody tr th {\n",
       "        vertical-align: top;\n",
       "    }\n",
       "\n",
       "    .dataframe thead th {\n",
       "        text-align: right;\n",
       "    }\n",
       "</style>\n",
       "<table border=\"1\" class=\"dataframe\">\n",
       "  <thead>\n",
       "    <tr style=\"text-align: right;\">\n",
       "      <th></th>\n",
       "      <th>Invoice</th>\n",
       "      <th>StockCode</th>\n",
       "      <th>Description</th>\n",
       "      <th>Quantity</th>\n",
       "      <th>Price</th>\n",
       "      <th>Customer ID</th>\n",
       "      <th>Country</th>\n",
       "      <th>Date</th>\n",
       "      <th>Recency</th>\n",
       "      <th>Frequency</th>\n",
       "      <th>Total</th>\n",
       "      <th>MonetaryValue</th>\n",
       "      <th>Recency_scores</th>\n",
       "      <th>Frequency_scores</th>\n",
       "      <th>Monetary_scores</th>\n",
       "      <th>RFM_Score</th>\n",
       "      <th>ValueSegment</th>\n",
       "    </tr>\n",
       "  </thead>\n",
       "  <tbody>\n",
       "    <tr>\n",
       "      <th>0</th>\n",
       "      <td>489434</td>\n",
       "      <td>85048</td>\n",
       "      <td>15CM CHRISTMAS GLASS BALL 20 LIGHTS</td>\n",
       "      <td>12</td>\n",
       "      <td>6.95</td>\n",
       "      <td>13085.0</td>\n",
       "      <td>United Kingdom</td>\n",
       "      <td>2009-12-01</td>\n",
       "      <td>5100</td>\n",
       "      <td>63</td>\n",
       "      <td>83.4</td>\n",
       "      <td>1187.08</td>\n",
       "      <td>1</td>\n",
       "      <td>1</td>\n",
       "      <td>1</td>\n",
       "      <td>3</td>\n",
       "      <td>LOW</td>\n",
       "    </tr>\n",
       "    <tr>\n",
       "      <th>1</th>\n",
       "      <td>489434</td>\n",
       "      <td>79323P</td>\n",
       "      <td>PINK CHERRY LIGHTS</td>\n",
       "      <td>12</td>\n",
       "      <td>6.75</td>\n",
       "      <td>13085.0</td>\n",
       "      <td>United Kingdom</td>\n",
       "      <td>2009-12-01</td>\n",
       "      <td>5100</td>\n",
       "      <td>63</td>\n",
       "      <td>81.0</td>\n",
       "      <td>1187.08</td>\n",
       "      <td>1</td>\n",
       "      <td>1</td>\n",
       "      <td>1</td>\n",
       "      <td>3</td>\n",
       "      <td>LOW</td>\n",
       "    </tr>\n",
       "    <tr>\n",
       "      <th>2</th>\n",
       "      <td>489434</td>\n",
       "      <td>79323W</td>\n",
       "      <td>WHITE CHERRY LIGHTS</td>\n",
       "      <td>12</td>\n",
       "      <td>6.75</td>\n",
       "      <td>13085.0</td>\n",
       "      <td>United Kingdom</td>\n",
       "      <td>2009-12-01</td>\n",
       "      <td>5100</td>\n",
       "      <td>63</td>\n",
       "      <td>81.0</td>\n",
       "      <td>1187.08</td>\n",
       "      <td>1</td>\n",
       "      <td>1</td>\n",
       "      <td>1</td>\n",
       "      <td>3</td>\n",
       "      <td>LOW</td>\n",
       "    </tr>\n",
       "    <tr>\n",
       "      <th>3</th>\n",
       "      <td>489434</td>\n",
       "      <td>22041</td>\n",
       "      <td>RECORD FRAME 7\" SINGLE SIZE</td>\n",
       "      <td>48</td>\n",
       "      <td>2.10</td>\n",
       "      <td>13085.0</td>\n",
       "      <td>United Kingdom</td>\n",
       "      <td>2009-12-01</td>\n",
       "      <td>5100</td>\n",
       "      <td>63</td>\n",
       "      <td>100.8</td>\n",
       "      <td>1187.08</td>\n",
       "      <td>1</td>\n",
       "      <td>1</td>\n",
       "      <td>1</td>\n",
       "      <td>3</td>\n",
       "      <td>LOW</td>\n",
       "    </tr>\n",
       "    <tr>\n",
       "      <th>4</th>\n",
       "      <td>489434</td>\n",
       "      <td>21232</td>\n",
       "      <td>STRAWBERRY CERAMIC TRINKET BOX</td>\n",
       "      <td>24</td>\n",
       "      <td>1.25</td>\n",
       "      <td>13085.0</td>\n",
       "      <td>United Kingdom</td>\n",
       "      <td>2009-12-01</td>\n",
       "      <td>5100</td>\n",
       "      <td>63</td>\n",
       "      <td>30.0</td>\n",
       "      <td>1187.08</td>\n",
       "      <td>1</td>\n",
       "      <td>1</td>\n",
       "      <td>1</td>\n",
       "      <td>3</td>\n",
       "      <td>LOW</td>\n",
       "    </tr>\n",
       "  </tbody>\n",
       "</table>\n",
       "</div>"
      ],
      "text/plain": [
       "  Invoice StockCode                          Description  Quantity  Price  \\\n",
       "0  489434     85048  15CM CHRISTMAS GLASS BALL 20 LIGHTS        12   6.95   \n",
       "1  489434    79323P                   PINK CHERRY LIGHTS        12   6.75   \n",
       "2  489434    79323W                  WHITE CHERRY LIGHTS        12   6.75   \n",
       "3  489434     22041         RECORD FRAME 7\" SINGLE SIZE         48   2.10   \n",
       "4  489434     21232       STRAWBERRY CERAMIC TRINKET BOX        24   1.25   \n",
       "\n",
       "   Customer ID         Country       Date  Recency  Frequency  Total  \\\n",
       "0      13085.0  United Kingdom 2009-12-01     5100         63   83.4   \n",
       "1      13085.0  United Kingdom 2009-12-01     5100         63   81.0   \n",
       "2      13085.0  United Kingdom 2009-12-01     5100         63   81.0   \n",
       "3      13085.0  United Kingdom 2009-12-01     5100         63  100.8   \n",
       "4      13085.0  United Kingdom 2009-12-01     5100         63   30.0   \n",
       "\n",
       "   MonetaryValue  Recency_scores  Frequency_scores  Monetary_scores  \\\n",
       "0        1187.08               1                 1                1   \n",
       "1        1187.08               1                 1                1   \n",
       "2        1187.08               1                 1                1   \n",
       "3        1187.08               1                 1                1   \n",
       "4        1187.08               1                 1                1   \n",
       "\n",
       "   RFM_Score ValueSegment  \n",
       "0          3          LOW  \n",
       "1          3          LOW  \n",
       "2          3          LOW  \n",
       "3          3          LOW  \n",
       "4          3          LOW  "
      ]
     },
     "execution_count": 21,
     "metadata": {},
     "output_type": "execute_result"
    }
   ],
   "source": [
    "df.head()"
   ]
  },
  {
   "cell_type": "code",
   "execution_count": 22,
   "id": "14bd0c15",
   "metadata": {},
   "outputs": [
    {
     "data": {
      "text/html": [
       "<div>\n",
       "<style scoped>\n",
       "    .dataframe tbody tr th:only-of-type {\n",
       "        vertical-align: middle;\n",
       "    }\n",
       "\n",
       "    .dataframe tbody tr th {\n",
       "        vertical-align: top;\n",
       "    }\n",
       "\n",
       "    .dataframe thead th {\n",
       "        text-align: right;\n",
       "    }\n",
       "</style>\n",
       "<table border=\"1\" class=\"dataframe\">\n",
       "  <thead>\n",
       "    <tr style=\"text-align: right;\">\n",
       "      <th></th>\n",
       "      <th>Quantity</th>\n",
       "      <th>Price</th>\n",
       "      <th>Customer ID</th>\n",
       "      <th>Recency</th>\n",
       "      <th>Frequency</th>\n",
       "      <th>Total</th>\n",
       "      <th>MonetaryValue</th>\n",
       "      <th>Recency_scores</th>\n",
       "      <th>Frequency_scores</th>\n",
       "      <th>Monetary_scores</th>\n",
       "      <th>RFM_Score</th>\n",
       "    </tr>\n",
       "  </thead>\n",
       "  <tbody>\n",
       "    <tr>\n",
       "      <th>count</th>\n",
       "      <td>417534.000000</td>\n",
       "      <td>417534.000000</td>\n",
       "      <td>417534.000000</td>\n",
       "      <td>417534.000000</td>\n",
       "      <td>417534.000000</td>\n",
       "      <td>417534.000000</td>\n",
       "      <td>417534.000000</td>\n",
       "      <td>417534.000000</td>\n",
       "      <td>417534.000000</td>\n",
       "      <td>417534.000000</td>\n",
       "      <td>417534.000000</td>\n",
       "    </tr>\n",
       "    <tr>\n",
       "      <th>mean</th>\n",
       "      <td>12.758815</td>\n",
       "      <td>3.887547</td>\n",
       "      <td>15360.645478</td>\n",
       "      <td>4888.507183</td>\n",
       "      <td>535.899088</td>\n",
       "      <td>19.994081</td>\n",
       "      <td>10849.458851</td>\n",
       "      <td>3.335834</td>\n",
       "      <td>1.218861</td>\n",
       "      <td>1.084645</td>\n",
       "      <td>5.639340</td>\n",
       "    </tr>\n",
       "    <tr>\n",
       "      <th>std</th>\n",
       "      <td>101.220424</td>\n",
       "      <td>71.131797</td>\n",
       "      <td>1680.811316</td>\n",
       "      <td>113.500193</td>\n",
       "      <td>1001.260906</td>\n",
       "      <td>99.915863</td>\n",
       "      <td>31263.056573</td>\n",
       "      <td>1.465860</td>\n",
       "      <td>0.759125</td>\n",
       "      <td>0.408241</td>\n",
       "      <td>1.761359</td>\n",
       "    </tr>\n",
       "    <tr>\n",
       "      <th>min</th>\n",
       "      <td>-9360.000000</td>\n",
       "      <td>0.000000</td>\n",
       "      <td>12346.000000</td>\n",
       "      <td>4727.000000</td>\n",
       "      <td>1.000000</td>\n",
       "      <td>-25111.090000</td>\n",
       "      <td>-25111.090000</td>\n",
       "      <td>1.000000</td>\n",
       "      <td>1.000000</td>\n",
       "      <td>1.000000</td>\n",
       "      <td>3.000000</td>\n",
       "    </tr>\n",
       "    <tr>\n",
       "      <th>25%</th>\n",
       "      <td>2.000000</td>\n",
       "      <td>1.250000</td>\n",
       "      <td>13983.000000</td>\n",
       "      <td>4783.000000</td>\n",
       "      <td>92.000000</td>\n",
       "      <td>4.250000</td>\n",
       "      <td>1133.730000</td>\n",
       "      <td>2.000000</td>\n",
       "      <td>1.000000</td>\n",
       "      <td>1.000000</td>\n",
       "      <td>4.000000</td>\n",
       "    </tr>\n",
       "    <tr>\n",
       "      <th>50%</th>\n",
       "      <td>4.000000</td>\n",
       "      <td>1.950000</td>\n",
       "      <td>15311.000000</td>\n",
       "      <td>4881.000000</td>\n",
       "      <td>208.000000</td>\n",
       "      <td>11.250000</td>\n",
       "      <td>2547.090000</td>\n",
       "      <td>3.000000</td>\n",
       "      <td>1.000000</td>\n",
       "      <td>1.000000</td>\n",
       "      <td>6.000000</td>\n",
       "    </tr>\n",
       "    <tr>\n",
       "      <th>75%</th>\n",
       "      <td>12.000000</td>\n",
       "      <td>3.750000</td>\n",
       "      <td>16799.000000</td>\n",
       "      <td>4985.000000</td>\n",
       "      <td>465.000000</td>\n",
       "      <td>19.350000</td>\n",
       "      <td>6207.000000</td>\n",
       "      <td>5.000000</td>\n",
       "      <td>1.000000</td>\n",
       "      <td>1.000000</td>\n",
       "      <td>7.000000</td>\n",
       "    </tr>\n",
       "    <tr>\n",
       "      <th>max</th>\n",
       "      <td>19152.000000</td>\n",
       "      <td>25111.090000</td>\n",
       "      <td>18287.000000</td>\n",
       "      <td>5100.000000</td>\n",
       "      <td>5710.000000</td>\n",
       "      <td>15818.400000</td>\n",
       "      <td>341776.730000</td>\n",
       "      <td>5.000000</td>\n",
       "      <td>5.000000</td>\n",
       "      <td>5.000000</td>\n",
       "      <td>13.000000</td>\n",
       "    </tr>\n",
       "  </tbody>\n",
       "</table>\n",
       "</div>"
      ],
      "text/plain": [
       "            Quantity          Price    Customer ID        Recency  \\\n",
       "count  417534.000000  417534.000000  417534.000000  417534.000000   \n",
       "mean       12.758815       3.887547   15360.645478    4888.507183   \n",
       "std       101.220424      71.131797    1680.811316     113.500193   \n",
       "min     -9360.000000       0.000000   12346.000000    4727.000000   \n",
       "25%         2.000000       1.250000   13983.000000    4783.000000   \n",
       "50%         4.000000       1.950000   15311.000000    4881.000000   \n",
       "75%        12.000000       3.750000   16799.000000    4985.000000   \n",
       "max     19152.000000   25111.090000   18287.000000    5100.000000   \n",
       "\n",
       "           Frequency          Total  MonetaryValue  Recency_scores  \\\n",
       "count  417534.000000  417534.000000  417534.000000   417534.000000   \n",
       "mean      535.899088      19.994081   10849.458851        3.335834   \n",
       "std      1001.260906      99.915863   31263.056573        1.465860   \n",
       "min         1.000000  -25111.090000  -25111.090000        1.000000   \n",
       "25%        92.000000       4.250000    1133.730000        2.000000   \n",
       "50%       208.000000      11.250000    2547.090000        3.000000   \n",
       "75%       465.000000      19.350000    6207.000000        5.000000   \n",
       "max      5710.000000   15818.400000  341776.730000        5.000000   \n",
       "\n",
       "       Frequency_scores  Monetary_scores      RFM_Score  \n",
       "count     417534.000000    417534.000000  417534.000000  \n",
       "mean           1.218861         1.084645       5.639340  \n",
       "std            0.759125         0.408241       1.761359  \n",
       "min            1.000000         1.000000       3.000000  \n",
       "25%            1.000000         1.000000       4.000000  \n",
       "50%            1.000000         1.000000       6.000000  \n",
       "75%            1.000000         1.000000       7.000000  \n",
       "max            5.000000         5.000000      13.000000  "
      ]
     },
     "execution_count": 22,
     "metadata": {},
     "output_type": "execute_result"
    }
   ],
   "source": [
    "df.describe()"
   ]
  },
  {
   "cell_type": "code",
   "execution_count": 23,
   "id": "53d8a738",
   "metadata": {},
   "outputs": [],
   "source": [
    "segment_counts = df['ValueSegment'].value_counts().reset_index()\n",
    "segment_counts.columns = ['ValueSegment','Count']"
   ]
  },
  {
   "cell_type": "code",
   "execution_count": 24,
   "id": "3cc4e877",
   "metadata": {},
   "outputs": [
    {
     "data": {
      "text/html": [
       "<div>\n",
       "<style scoped>\n",
       "    .dataframe tbody tr th:only-of-type {\n",
       "        vertical-align: middle;\n",
       "    }\n",
       "\n",
       "    .dataframe tbody tr th {\n",
       "        vertical-align: top;\n",
       "    }\n",
       "\n",
       "    .dataframe thead th {\n",
       "        text-align: right;\n",
       "    }\n",
       "</style>\n",
       "<table border=\"1\" class=\"dataframe\">\n",
       "  <thead>\n",
       "    <tr style=\"text-align: right;\">\n",
       "      <th></th>\n",
       "      <th>ValueSegment</th>\n",
       "      <th>Count</th>\n",
       "    </tr>\n",
       "  </thead>\n",
       "  <tbody>\n",
       "    <tr>\n",
       "      <th>0</th>\n",
       "      <td>MEDIUM</td>\n",
       "      <td>199815</td>\n",
       "    </tr>\n",
       "    <tr>\n",
       "      <th>1</th>\n",
       "      <td>LOW</td>\n",
       "      <td>192002</td>\n",
       "    </tr>\n",
       "    <tr>\n",
       "      <th>2</th>\n",
       "      <td>HIGH</td>\n",
       "      <td>25717</td>\n",
       "    </tr>\n",
       "  </tbody>\n",
       "</table>\n",
       "</div>"
      ],
      "text/plain": [
       "  ValueSegment   Count\n",
       "0       MEDIUM  199815\n",
       "1          LOW  192002\n",
       "2         HIGH   25717"
      ]
     },
     "execution_count": 24,
     "metadata": {},
     "output_type": "execute_result"
    }
   ],
   "source": [
    "segment_counts"
   ]
  },
  {
   "cell_type": "code",
   "execution_count": null,
   "id": "5d8112d4",
   "metadata": {
    "scrolled": true
   },
   "outputs": [],
   "source": [
    "pastel_colors = px.colors.qualitative.Pastel\n",
    "\n",
    "fig_segment_dist = px.bar(segment_counts,x=\"ValueSegment\",y=\"Count\",color = \"ValueSegment\",\n",
    "                          color_discrete_sequence=pastel_colors,title=\"RFM Value Segment Distribution\")\n",
    "\n",
    "fig_segment_dist.update_layout(xaxis_title=\"RFM Value Segmentation\",yaxis_title = \"Count\",showlegend=False)\n",
    "\n",
    "fig_segment_dist.show()"
   ]
  },
  {
   "cell_type": "code",
   "execution_count": 25,
   "id": "d823c4bb",
   "metadata": {},
   "outputs": [],
   "source": [
    "df['RFM_Customer_Segments'] = ''\n",
    "df.loc[df['RFM_Score']>=9, 'RFM_Customer_Segments'] = \"Champions\"\n",
    "df.loc[(df['RFM_Score']>=6) & (df['RFM_Score']<9), 'RFM_Customer_Segments'] = \"Potential Loyalists\"\n",
    "df.loc[(df['RFM_Score']>=5) & (df['RFM_Score']<6), 'RFM_Customer_Segments'] = \"At Risk Customers\"\n",
    "df.loc[(df['RFM_Score']>=4) & (df['RFM_Score']<5), 'RFM_Customer_Segments'] = \"Can't lose\"\n",
    "df.loc[(df['RFM_Score']>=3) & (df['RFM_Score']<4), 'RFM_Customer_Segments'] = \"Lost Customers\""
   ]
  },
  {
   "cell_type": "code",
   "execution_count": 26,
   "id": "f5054c17",
   "metadata": {},
   "outputs": [
    {
     "data": {
      "text/html": [
       "<div>\n",
       "<style scoped>\n",
       "    .dataframe tbody tr th:only-of-type {\n",
       "        vertical-align: middle;\n",
       "    }\n",
       "\n",
       "    .dataframe tbody tr th {\n",
       "        vertical-align: top;\n",
       "    }\n",
       "\n",
       "    .dataframe thead th {\n",
       "        text-align: right;\n",
       "    }\n",
       "</style>\n",
       "<table border=\"1\" class=\"dataframe\">\n",
       "  <thead>\n",
       "    <tr style=\"text-align: right;\">\n",
       "      <th></th>\n",
       "      <th>Invoice</th>\n",
       "      <th>StockCode</th>\n",
       "      <th>Description</th>\n",
       "      <th>Quantity</th>\n",
       "      <th>Price</th>\n",
       "      <th>Customer ID</th>\n",
       "      <th>Country</th>\n",
       "      <th>Date</th>\n",
       "      <th>Recency</th>\n",
       "      <th>Frequency</th>\n",
       "      <th>Total</th>\n",
       "      <th>MonetaryValue</th>\n",
       "      <th>Recency_scores</th>\n",
       "      <th>Frequency_scores</th>\n",
       "      <th>Monetary_scores</th>\n",
       "      <th>RFM_Score</th>\n",
       "      <th>ValueSegment</th>\n",
       "      <th>RFM_Customer_Segments</th>\n",
       "    </tr>\n",
       "  </thead>\n",
       "  <tbody>\n",
       "    <tr>\n",
       "      <th>0</th>\n",
       "      <td>489434</td>\n",
       "      <td>85048</td>\n",
       "      <td>15CM CHRISTMAS GLASS BALL 20 LIGHTS</td>\n",
       "      <td>12</td>\n",
       "      <td>6.95</td>\n",
       "      <td>13085.0</td>\n",
       "      <td>United Kingdom</td>\n",
       "      <td>2009-12-01</td>\n",
       "      <td>5100</td>\n",
       "      <td>63</td>\n",
       "      <td>83.4</td>\n",
       "      <td>1187.08</td>\n",
       "      <td>1</td>\n",
       "      <td>1</td>\n",
       "      <td>1</td>\n",
       "      <td>3</td>\n",
       "      <td>LOW</td>\n",
       "      <td>Lost Customers</td>\n",
       "    </tr>\n",
       "    <tr>\n",
       "      <th>1</th>\n",
       "      <td>489434</td>\n",
       "      <td>79323P</td>\n",
       "      <td>PINK CHERRY LIGHTS</td>\n",
       "      <td>12</td>\n",
       "      <td>6.75</td>\n",
       "      <td>13085.0</td>\n",
       "      <td>United Kingdom</td>\n",
       "      <td>2009-12-01</td>\n",
       "      <td>5100</td>\n",
       "      <td>63</td>\n",
       "      <td>81.0</td>\n",
       "      <td>1187.08</td>\n",
       "      <td>1</td>\n",
       "      <td>1</td>\n",
       "      <td>1</td>\n",
       "      <td>3</td>\n",
       "      <td>LOW</td>\n",
       "      <td>Lost Customers</td>\n",
       "    </tr>\n",
       "    <tr>\n",
       "      <th>2</th>\n",
       "      <td>489434</td>\n",
       "      <td>79323W</td>\n",
       "      <td>WHITE CHERRY LIGHTS</td>\n",
       "      <td>12</td>\n",
       "      <td>6.75</td>\n",
       "      <td>13085.0</td>\n",
       "      <td>United Kingdom</td>\n",
       "      <td>2009-12-01</td>\n",
       "      <td>5100</td>\n",
       "      <td>63</td>\n",
       "      <td>81.0</td>\n",
       "      <td>1187.08</td>\n",
       "      <td>1</td>\n",
       "      <td>1</td>\n",
       "      <td>1</td>\n",
       "      <td>3</td>\n",
       "      <td>LOW</td>\n",
       "      <td>Lost Customers</td>\n",
       "    </tr>\n",
       "    <tr>\n",
       "      <th>3</th>\n",
       "      <td>489434</td>\n",
       "      <td>22041</td>\n",
       "      <td>RECORD FRAME 7\" SINGLE SIZE</td>\n",
       "      <td>48</td>\n",
       "      <td>2.10</td>\n",
       "      <td>13085.0</td>\n",
       "      <td>United Kingdom</td>\n",
       "      <td>2009-12-01</td>\n",
       "      <td>5100</td>\n",
       "      <td>63</td>\n",
       "      <td>100.8</td>\n",
       "      <td>1187.08</td>\n",
       "      <td>1</td>\n",
       "      <td>1</td>\n",
       "      <td>1</td>\n",
       "      <td>3</td>\n",
       "      <td>LOW</td>\n",
       "      <td>Lost Customers</td>\n",
       "    </tr>\n",
       "    <tr>\n",
       "      <th>4</th>\n",
       "      <td>489434</td>\n",
       "      <td>21232</td>\n",
       "      <td>STRAWBERRY CERAMIC TRINKET BOX</td>\n",
       "      <td>24</td>\n",
       "      <td>1.25</td>\n",
       "      <td>13085.0</td>\n",
       "      <td>United Kingdom</td>\n",
       "      <td>2009-12-01</td>\n",
       "      <td>5100</td>\n",
       "      <td>63</td>\n",
       "      <td>30.0</td>\n",
       "      <td>1187.08</td>\n",
       "      <td>1</td>\n",
       "      <td>1</td>\n",
       "      <td>1</td>\n",
       "      <td>3</td>\n",
       "      <td>LOW</td>\n",
       "      <td>Lost Customers</td>\n",
       "    </tr>\n",
       "  </tbody>\n",
       "</table>\n",
       "</div>"
      ],
      "text/plain": [
       "  Invoice StockCode                          Description  Quantity  Price  \\\n",
       "0  489434     85048  15CM CHRISTMAS GLASS BALL 20 LIGHTS        12   6.95   \n",
       "1  489434    79323P                   PINK CHERRY LIGHTS        12   6.75   \n",
       "2  489434    79323W                  WHITE CHERRY LIGHTS        12   6.75   \n",
       "3  489434     22041         RECORD FRAME 7\" SINGLE SIZE         48   2.10   \n",
       "4  489434     21232       STRAWBERRY CERAMIC TRINKET BOX        24   1.25   \n",
       "\n",
       "   Customer ID         Country       Date  Recency  Frequency  Total  \\\n",
       "0      13085.0  United Kingdom 2009-12-01     5100         63   83.4   \n",
       "1      13085.0  United Kingdom 2009-12-01     5100         63   81.0   \n",
       "2      13085.0  United Kingdom 2009-12-01     5100         63   81.0   \n",
       "3      13085.0  United Kingdom 2009-12-01     5100         63  100.8   \n",
       "4      13085.0  United Kingdom 2009-12-01     5100         63   30.0   \n",
       "\n",
       "   MonetaryValue  Recency_scores  Frequency_scores  Monetary_scores  \\\n",
       "0        1187.08               1                 1                1   \n",
       "1        1187.08               1                 1                1   \n",
       "2        1187.08               1                 1                1   \n",
       "3        1187.08               1                 1                1   \n",
       "4        1187.08               1                 1                1   \n",
       "\n",
       "   RFM_Score ValueSegment RFM_Customer_Segments  \n",
       "0          3          LOW        Lost Customers  \n",
       "1          3          LOW        Lost Customers  \n",
       "2          3          LOW        Lost Customers  \n",
       "3          3          LOW        Lost Customers  \n",
       "4          3          LOW        Lost Customers  "
      ]
     },
     "execution_count": 26,
     "metadata": {},
     "output_type": "execute_result"
    }
   ],
   "source": [
    "df.head()"
   ]
  },
  {
   "cell_type": "code",
   "execution_count": 27,
   "id": "b9f70f82",
   "metadata": {},
   "outputs": [],
   "source": [
    "segment_product_counts = df.groupby(['ValueSegment', 'RFM_Customer_Segments']).size().reset_index(name='Count')\n",
    "segment_product_counts = segment_product_counts.sort_values('Count', ascending=False)"
   ]
  },
  {
   "cell_type": "code",
   "execution_count": null,
   "id": "844a03c4",
   "metadata": {},
   "outputs": [],
   "source": [
    "fig_treemap_segment_product = px.treemap(segment_product_counts,path = ['ValueSegment','RFM_Customer_Segments'],\n",
    "                                        values = 'Count',color = 'ValueSegment',color_discrete_sequence=px.colors.qualitative.Pastel,\n",
    "                                        title = \"RFM Customer Segment by Value\")\n",
    "fig_treemap_segment_product.show()"
   ]
  },
  {
   "cell_type": "code",
   "execution_count": 28,
   "id": "41dd6cdd",
   "metadata": {},
   "outputs": [],
   "source": [
    "df['RFM_Product_Segments'] = ''\n",
    "df.loc[df['RFM_Score']>=23, 'RFM_Product_Segments'] = \"Top Performing Products\"\n",
    "df.loc[(df['RFM_Score']<23) & (df['RFM_Score']>=15), 'RFM_Product_Segments'] = \"Decent Performing Products\"\n",
    "df.loc[(df['RFM_Score']<15) & (df['RFM_Score']>=5), 'RFM_Product_Segments'] = \"Slow Moving Products\"\n",
    "df.loc[(df['RFM_Score']<5), 'RFM_Product_Segments'] = \"Excess Inventory\""
   ]
  },
  {
   "cell_type": "code",
   "execution_count": null,
   "id": "3f4cc069",
   "metadata": {},
   "outputs": [],
   "source": [
    "df.head()"
   ]
  },
  {
   "cell_type": "code",
   "execution_count": 29,
   "id": "cc0e516f",
   "metadata": {},
   "outputs": [
    {
     "name": "stdout",
     "output_type": "stream",
     "text": [
      "                                Description  RFM_Product_Segments\n",
      "0       15CM CHRISTMAS GLASS BALL 20 LIGHTS      Excess Inventory\n",
      "1                        PINK CHERRY LIGHTS      Excess Inventory\n",
      "2                       WHITE CHERRY LIGHTS      Excess Inventory\n",
      "3              RECORD FRAME 7\" SINGLE SIZE       Excess Inventory\n",
      "4            STRAWBERRY CERAMIC TRINKET BOX      Excess Inventory\n",
      "...                                     ...                   ...\n",
      "417529                 FELTCRAFT DOLL ROSIE  Slow Moving Products\n",
      "417530         FELTCRAFT PRINCESS LOLA DOLL  Slow Moving Products\n",
      "417531       FELTCRAFT PRINCESS OLIVIA DOLL  Slow Moving Products\n",
      "417532   PINK FLORAL FELTCRAFT SHOULDER BAG  Slow Moving Products\n",
      "417533               JUMBO STORAGE BAG SUKI  Slow Moving Products\n",
      "\n",
      "[417534 rows x 2 columns]\n"
     ]
    }
   ],
   "source": [
    "print(df[['Description', 'RFM_Product_Segments']])"
   ]
  },
  {
   "cell_type": "code",
   "execution_count": 30,
   "id": "64f7e27f",
   "metadata": {},
   "outputs": [],
   "source": [
    "segment_product_counts = df.groupby(['ValueSegment', 'RFM_Product_Segments']).size().reset_index(name='Count')\n",
    "segment_product_counts = segment_product_counts.sort_values('Count', ascending=False)"
   ]
  },
  {
   "cell_type": "code",
   "execution_count": null,
   "id": "c8d500a4",
   "metadata": {},
   "outputs": [],
   "source": [
    "fig_treemap_segment_product = px.treemap(segment_product_counts,path=['ValueSegment','RFM_Product_Segments'],values='Count',\n",
    "                                        color='ValueSegment',color_discrete_sequence=px.colors.qualitative.Pastel,\n",
    "                                        title='RFM Product Segments by Value')\n",
    "fig_treemap_segment_product.show()"
   ]
  },
  {
   "cell_type": "code",
   "execution_count": null,
   "id": "b5f94bd7",
   "metadata": {},
   "outputs": [],
   "source": [
    "champions_segment = df[df['RFM_Customer_Segments']=='Champions']\n",
    "fig = go.Figure()\n",
    "fig.add_trace(go.Box(y=df['Recency_scores'],name='Recency'))\n",
    "fig.add_trace(go.Box(y=df['Frequency_scores'],name='Frequency'))\n",
    "fig.add_trace(go.Box(y=df['Monetary_scores'],name='Monetary'))\n",
    "\n",
    "fig.update_layout(title='Distribution of RFM with Champions Segment',yaxis_title='RFM Value',showlegend=True)"
   ]
  },
  {
   "cell_type": "code",
   "execution_count": null,
   "id": "bde599fa",
   "metadata": {},
   "outputs": [],
   "source": [
    "champions_segment"
   ]
  },
  {
   "cell_type": "code",
   "execution_count": 31,
   "id": "1db9c5e7",
   "metadata": {},
   "outputs": [
    {
     "ename": "NameError",
     "evalue": "name 'champions_segment' is not defined",
     "output_type": "error",
     "traceback": [
      "\u001b[0;31m---------------------------------------------------------------------------\u001b[0m",
      "\u001b[0;31mNameError\u001b[0m                                 Traceback (most recent call last)",
      "\u001b[0;32m/var/folders/lm/glp0jz0x7jn2sh195sgrmxx80000gn/T/ipykernel_3722/1099215797.py\u001b[0m in \u001b[0;36m<module>\u001b[0;34m\u001b[0m\n\u001b[0;32m----> 1\u001b[0;31m \u001b[0mcorrelation_matrix\u001b[0m \u001b[0;34m=\u001b[0m \u001b[0mchampions_segment\u001b[0m\u001b[0;34m[\u001b[0m\u001b[0;34m[\u001b[0m\u001b[0;34m'Recency_scores'\u001b[0m\u001b[0;34m,\u001b[0m \u001b[0;34m'Frequency_scores'\u001b[0m\u001b[0;34m,\u001b[0m \u001b[0;34m'Monetary_scores'\u001b[0m\u001b[0;34m]\u001b[0m\u001b[0;34m]\u001b[0m\u001b[0;34m.\u001b[0m\u001b[0mcorr\u001b[0m\u001b[0;34m(\u001b[0m\u001b[0;34m)\u001b[0m\u001b[0;34m\u001b[0m\u001b[0;34m\u001b[0m\u001b[0m\n\u001b[0m",
      "\u001b[0;31mNameError\u001b[0m: name 'champions_segment' is not defined"
     ]
    }
   ],
   "source": [
    "correlation_matrix = champions_segment[['Recency_scores', 'Frequency_scores', 'Monetary_scores']].corr()"
   ]
  },
  {
   "cell_type": "code",
   "execution_count": null,
   "id": "bf8a8606",
   "metadata": {},
   "outputs": [],
   "source": [
    "fig_heatmap = go.Figure(data=go.Heatmap(\n",
    "                        z=correlation_matrix.values,\n",
    "                        x=correlation_matrix.columns,\n",
    "                        y=correlation_matrix.columns,\n",
    "                        colorscale='RdBu',\n",
    "                        colorbar=dict(title='Correlation')))\n",
    "fig_heatmap.update_layout(title='Correlation Matrix of RFM Values within Champions Segment')\n",
    "fig_heatmap.show()"
   ]
  },
  {
   "cell_type": "markdown",
   "id": "b1780155",
   "metadata": {},
   "source": [
    " Here, The recency and Monetary Correlation is -0.21.  it means customers that spends more money will not be recent and if they are recent they want spend more money"
   ]
  },
  {
   "cell_type": "code",
   "execution_count": null,
   "id": "d6cfb110",
   "metadata": {},
   "outputs": [],
   "source": [
    "import plotly.colors\n",
    "\n",
    "pastel_colors = plotly.colors.qualitative.Pastel\n",
    "segment_counts = df['RFM_Customer_Segments'].value_counts()\n",
    "fig = go.Figure(data=[go.Bar(x=segment_counts.index, y=segment_counts.values,marker=dict(color=pastel_colors))])\n",
    "champions_color = 'rgb(158, 202, 225)'\n",
    "\n",
    "fig.update_traces(marker_color=[champions_color if segment == 'Champions' else pastel_colors[i] for i, segment in enumerate(segment_counts.index)], \n",
    "                  marker_line_color='rgb(8, 48, 107)', marker_line_width=1.5, opacity=0.6)\n",
    "\n",
    "fig.update_layout(title='Comparison of RFM Segments', xaxis_title='RFM Segments', yaxis_title='Number of Customers', showlegend=False)\n",
    "fig.show()"
   ]
  },
  {
   "cell_type": "code",
   "execution_count": null,
   "id": "bbee1625",
   "metadata": {},
   "outputs": [],
   "source": [
    "location_quantity = df.groupby('Country')['Quantity'].sum().reset_index()\n",
    "\n",
    "fig = go.Figure()\n",
    "fig.add_trace(go.Bar(x=location_quantity['Country'], y=location_quantity['Quantity']))\n",
    "fig.update_layout(title='Country_quantity', xaxis_title='location', yaxis_title='Customers')\n",
    "fig.show()"
   ]
  },
  {
   "cell_type": "code",
   "execution_count": null,
   "id": "867de12d",
   "metadata": {},
   "outputs": [],
   "source": [
    "segment_scores =  df.groupby('RFM_Customer_Segments')['Recency_scores', 'Frequency_scores', 'Monetary_scores'].mean().reset_index()\n",
    "# Create a grouped bar chart to compare segment scores\n",
    "fig = go.Figure()\n",
    "\n",
    "fig.add_trace(go.Bar( x=segment_scores['RFM_Customer_Segments'], \n",
    "                     y=segment_scores['Recency_scores'], name='Recency Score', \n",
    "                     marker_color='rgb(158,202,225)'\n",
    "))\n",
    "\n",
    "fig.add_trace(go.Bar( x=segment_scores['RFM_Customer_Segments'], \n",
    "                     y=segment_scores['Frequency_scores'], name='Frequency Score', \n",
    "                     marker_color='rgb(94,158,217)'\n",
    "))\n",
    "\n",
    "fig.add_trace(go.Bar( x=segment_scores['RFM_Customer_Segments'], \n",
    "                     y=segment_scores['Monetary_scores'], name='Monetary Score', \n",
    "                     marker_color='rgb(32,102,148)'\n",
    "))\n",
    "\n",
    "fig.update_layout(title='Comparison of RFM Segments based on Recency, Frequency, and Monetary Scores',\n",
    "                  xaxis_title='RFM Segments', yaxis_title='Score', barmode='group', showlegend=True)\n",
    "fig.show()"
   ]
  },
  {
   "cell_type": "code",
   "execution_count": null,
   "id": "3c9b2a8e",
   "metadata": {},
   "outputs": [],
   "source": [
    "sns.ecdfplot(data=df['RFM_Score'])"
   ]
  },
  {
   "cell_type": "markdown",
   "id": "d96f77a6",
   "metadata": {},
   "source": [
    "Non linear trend"
   ]
  },
  {
   "cell_type": "code",
   "execution_count": 32,
   "id": "bf3c9a0b",
   "metadata": {},
   "outputs": [],
   "source": [
    "import scipy.stats as stats"
   ]
  },
  {
   "cell_type": "code",
   "execution_count": 33,
   "id": "e1bea56b",
   "metadata": {},
   "outputs": [
    {
     "name": "stdout",
     "output_type": "stream",
     "text": [
      "Skewness: 0.5547627362545696\n"
     ]
    }
   ],
   "source": [
    "skewness = stats.skew(df['RFM_Score'])\n",
    "\n",
    "print(\"Skewness:\", skewness)"
   ]
  },
  {
   "cell_type": "code",
   "execution_count": 34,
   "id": "9a98b5e2",
   "metadata": {},
   "outputs": [
    {
     "data": {
      "text/plain": [
       "count    417534.000000\n",
       "mean          5.639340\n",
       "std           1.761359\n",
       "min           3.000000\n",
       "25%           4.000000\n",
       "50%           6.000000\n",
       "75%           7.000000\n",
       "max          13.000000\n",
       "Name: RFM_Score, dtype: float64"
      ]
     },
     "execution_count": 34,
     "metadata": {},
     "output_type": "execute_result"
    }
   ],
   "source": [
    "df['RFM_Score'].describe()"
   ]
  },
  {
   "cell_type": "code",
   "execution_count": 35,
   "id": "fca41fbd",
   "metadata": {},
   "outputs": [
    {
     "data": {
      "text/plain": [
       "6.0"
      ]
     },
     "execution_count": 35,
     "metadata": {},
     "output_type": "execute_result"
    }
   ],
   "source": [
    "df['RFM_Score'].median()"
   ]
  },
  {
   "cell_type": "code",
   "execution_count": null,
   "id": "b0981e8e",
   "metadata": {},
   "outputs": [],
   "source": [
    "fig = px.box(df, y=\"RFM_Score\")\n",
    "fig.show()"
   ]
  },
  {
   "cell_type": "code",
   "execution_count": null,
   "id": "b758f767",
   "metadata": {},
   "outputs": [],
   "source": [
    "outliers = df[df['RFM_Score']>10]"
   ]
  },
  {
   "cell_type": "code",
   "execution_count": null,
   "id": "b2ebe752",
   "metadata": {},
   "outputs": [],
   "source": [
    "outliers.shape"
   ]
  },
  {
   "cell_type": "code",
   "execution_count": null,
   "id": "548b5b24",
   "metadata": {},
   "outputs": [],
   "source": [
    "df.head()"
   ]
  },
  {
   "cell_type": "code",
   "execution_count": 36,
   "id": "023f0851",
   "metadata": {
    "scrolled": true
   },
   "outputs": [],
   "source": [
    "df_new = df.copy()"
   ]
  },
  {
   "cell_type": "code",
   "execution_count": 37,
   "id": "4435a7c3",
   "metadata": {},
   "outputs": [],
   "source": [
    "import lifetimes\n",
    "from lifetimes import BetaGeoFitter\n",
    "from lifetimes.plotting import plot_frequency_recency_matrix\n",
    "from lifetimes.plotting import plot_probability_alive_matrix\n",
    "from lifetimes.plotting import plot_period_transactions\n",
    "from lifetimes.utils import calibration_and_holdout_data\n",
    "from lifetimes.plotting import *\n",
    "from sklearn.metrics import mean_squared_error\n",
    "from math import sqrt\n",
    "from lifetimes import ParetoNBDFitter\n",
    "from lifetimes.plotting import plot_history_alive\n",
    "from lifetimes import ModifiedBetaGeoFitter\n"
   ]
  },
  {
   "cell_type": "code",
   "execution_count": 38,
   "id": "c4d447d8",
   "metadata": {},
   "outputs": [],
   "source": [
    "summary = lifetimes.utils.summary_data_from_transaction_data(df, \"Customer ID\", \"Date\", \"Total\")"
   ]
  },
  {
   "cell_type": "code",
   "execution_count": 39,
   "id": "57fa2e81",
   "metadata": {},
   "outputs": [],
   "source": [
    "summary = summary.reset_index()"
   ]
  },
  {
   "cell_type": "code",
   "execution_count": 40,
   "id": "fd7d2a55",
   "metadata": {},
   "outputs": [
    {
     "data": {
      "text/html": [
       "<div>\n",
       "<style scoped>\n",
       "    .dataframe tbody tr th:only-of-type {\n",
       "        vertical-align: middle;\n",
       "    }\n",
       "\n",
       "    .dataframe tbody tr th {\n",
       "        vertical-align: top;\n",
       "    }\n",
       "\n",
       "    .dataframe thead th {\n",
       "        text-align: right;\n",
       "    }\n",
       "</style>\n",
       "<table border=\"1\" class=\"dataframe\">\n",
       "  <thead>\n",
       "    <tr style=\"text-align: right;\">\n",
       "      <th></th>\n",
       "      <th>Customer ID</th>\n",
       "      <th>frequency</th>\n",
       "      <th>recency</th>\n",
       "      <th>T</th>\n",
       "      <th>monetary_value</th>\n",
       "    </tr>\n",
       "  </thead>\n",
       "  <tbody>\n",
       "    <tr>\n",
       "      <th>0</th>\n",
       "      <td>12346.0</td>\n",
       "      <td>9.0</td>\n",
       "      <td>294.0</td>\n",
       "      <td>360.0</td>\n",
       "      <td>-17.186667</td>\n",
       "    </tr>\n",
       "    <tr>\n",
       "      <th>1</th>\n",
       "      <td>12347.0</td>\n",
       "      <td>1.0</td>\n",
       "      <td>37.0</td>\n",
       "      <td>39.0</td>\n",
       "      <td>711.790000</td>\n",
       "    </tr>\n",
       "    <tr>\n",
       "      <th>2</th>\n",
       "      <td>12348.0</td>\n",
       "      <td>0.0</td>\n",
       "      <td>0.0</td>\n",
       "      <td>73.0</td>\n",
       "      <td>0.000000</td>\n",
       "    </tr>\n",
       "    <tr>\n",
       "      <th>3</th>\n",
       "      <td>12349.0</td>\n",
       "      <td>3.0</td>\n",
       "      <td>328.0</td>\n",
       "      <td>370.0</td>\n",
       "      <td>890.380000</td>\n",
       "    </tr>\n",
       "    <tr>\n",
       "      <th>4</th>\n",
       "      <td>12351.0</td>\n",
       "      <td>0.0</td>\n",
       "      <td>0.0</td>\n",
       "      <td>10.0</td>\n",
       "      <td>0.000000</td>\n",
       "    </tr>\n",
       "  </tbody>\n",
       "</table>\n",
       "</div>"
      ],
      "text/plain": [
       "   Customer ID  frequency  recency      T  monetary_value\n",
       "0      12346.0        9.0    294.0  360.0      -17.186667\n",
       "1      12347.0        1.0     37.0   39.0      711.790000\n",
       "2      12348.0        0.0      0.0   73.0        0.000000\n",
       "3      12349.0        3.0    328.0  370.0      890.380000\n",
       "4      12351.0        0.0      0.0   10.0        0.000000"
      ]
     },
     "execution_count": 40,
     "metadata": {},
     "output_type": "execute_result"
    }
   ],
   "source": [
    "summary.head()"
   ]
  },
  {
   "cell_type": "code",
   "execution_count": 41,
   "id": "e3b30d52",
   "metadata": {},
   "outputs": [
    {
     "name": "stdout",
     "output_type": "stream",
     "text": [
      "Total Number of Frequency with 0: 1360\n",
      "Total Number of Recency with 0: 1360\n",
      "Total Number of Monetary Value with 0: 1364\n"
     ]
    }
   ],
   "source": [
    "print(\"Total Number of Frequency with 0: %s\" % (len(summary[summary[\"frequency\"] == 0])))\n",
    "print(\"Total Number of Recency with 0: %s\" % (len(summary[summary[\"recency\"] == 0])))\n",
    "print(\"Total Number of Monetary Value with 0: %s\" % (len(summary[summary[\"monetary_value\"] == 0])))"
   ]
  },
  {
   "cell_type": "markdown",
   "id": "f0bd30f8",
   "metadata": {},
   "source": [
    "# Beta Geo - Negative Binomial Distribution + Gamma Gamma Distribution Model"
   ]
  },
  {
   "cell_type": "code",
   "execution_count": 42,
   "id": "8e96fad9",
   "metadata": {},
   "outputs": [],
   "source": [
    "summary_bgf = summary.copy()"
   ]
  },
  {
   "cell_type": "code",
   "execution_count": 43,
   "id": "41723b91",
   "metadata": {},
   "outputs": [
    {
     "data": {
      "text/html": [
       "<div>\n",
       "<style scoped>\n",
       "    .dataframe tbody tr th:only-of-type {\n",
       "        vertical-align: middle;\n",
       "    }\n",
       "\n",
       "    .dataframe tbody tr th {\n",
       "        vertical-align: top;\n",
       "    }\n",
       "\n",
       "    .dataframe thead th {\n",
       "        text-align: right;\n",
       "    }\n",
       "</style>\n",
       "<table border=\"1\" class=\"dataframe\">\n",
       "  <thead>\n",
       "    <tr style=\"text-align: right;\">\n",
       "      <th></th>\n",
       "      <th>Customer ID</th>\n",
       "      <th>frequency</th>\n",
       "      <th>recency</th>\n",
       "      <th>T</th>\n",
       "      <th>monetary_value</th>\n",
       "    </tr>\n",
       "  </thead>\n",
       "  <tbody>\n",
       "    <tr>\n",
       "      <th>0</th>\n",
       "      <td>12346.0</td>\n",
       "      <td>9.0</td>\n",
       "      <td>294.0</td>\n",
       "      <td>360.0</td>\n",
       "      <td>-17.186667</td>\n",
       "    </tr>\n",
       "    <tr>\n",
       "      <th>1</th>\n",
       "      <td>12347.0</td>\n",
       "      <td>1.0</td>\n",
       "      <td>37.0</td>\n",
       "      <td>39.0</td>\n",
       "      <td>711.790000</td>\n",
       "    </tr>\n",
       "  </tbody>\n",
       "</table>\n",
       "</div>"
      ],
      "text/plain": [
       "   Customer ID  frequency  recency      T  monetary_value\n",
       "0      12346.0        9.0    294.0  360.0      -17.186667\n",
       "1      12347.0        1.0     37.0   39.0      711.790000"
      ]
     },
     "execution_count": 43,
     "metadata": {},
     "output_type": "execute_result"
    }
   ],
   "source": [
    "summary_bgf.head(2)"
   ]
  },
  {
   "cell_type": "code",
   "execution_count": 44,
   "id": "9779b8d8",
   "metadata": {},
   "outputs": [],
   "source": [
    "bgf = BetaGeoFitter(penalizer_coef = 0.0)"
   ]
  },
  {
   "cell_type": "code",
   "execution_count": 45,
   "id": "6ef77875",
   "metadata": {},
   "outputs": [
    {
     "data": {
      "text/plain": [
       "<lifetimes.BetaGeoFitter: fitted with 4383 subjects, a: 0.04, alpha: 56.19, b: 1.93, r: 0.86>"
      ]
     },
     "execution_count": 45,
     "metadata": {},
     "output_type": "execute_result"
    }
   ],
   "source": [
    "bgf.fit(summary_bgf[\"frequency\"], summary_bgf[\"recency\"], summary_bgf[\"T\"])"
   ]
  },
  {
   "cell_type": "code",
   "execution_count": 46,
   "id": "565527b3",
   "metadata": {},
   "outputs": [
    {
     "data": {
      "text/html": [
       "<div>\n",
       "<style scoped>\n",
       "    .dataframe tbody tr th:only-of-type {\n",
       "        vertical-align: middle;\n",
       "    }\n",
       "\n",
       "    .dataframe tbody tr th {\n",
       "        vertical-align: top;\n",
       "    }\n",
       "\n",
       "    .dataframe thead th {\n",
       "        text-align: right;\n",
       "    }\n",
       "</style>\n",
       "<table border=\"1\" class=\"dataframe\">\n",
       "  <thead>\n",
       "    <tr style=\"text-align: right;\">\n",
       "      <th></th>\n",
       "      <th>coef</th>\n",
       "      <th>se(coef)</th>\n",
       "      <th>lower 95% bound</th>\n",
       "      <th>upper 95% bound</th>\n",
       "    </tr>\n",
       "  </thead>\n",
       "  <tbody>\n",
       "    <tr>\n",
       "      <th>r</th>\n",
       "      <td>0.860759</td>\n",
       "      <td>0.026544</td>\n",
       "      <td>0.808734</td>\n",
       "      <td>0.912784</td>\n",
       "    </tr>\n",
       "    <tr>\n",
       "      <th>alpha</th>\n",
       "      <td>56.190242</td>\n",
       "      <td>2.078990</td>\n",
       "      <td>52.115422</td>\n",
       "      <td>60.265063</td>\n",
       "    </tr>\n",
       "    <tr>\n",
       "      <th>a</th>\n",
       "      <td>0.040686</td>\n",
       "      <td>0.015445</td>\n",
       "      <td>0.010414</td>\n",
       "      <td>0.070959</td>\n",
       "    </tr>\n",
       "    <tr>\n",
       "      <th>b</th>\n",
       "      <td>1.925118</td>\n",
       "      <td>1.149928</td>\n",
       "      <td>-0.328741</td>\n",
       "      <td>4.178977</td>\n",
       "    </tr>\n",
       "  </tbody>\n",
       "</table>\n",
       "</div>"
      ],
      "text/plain": [
       "            coef  se(coef)  lower 95% bound  upper 95% bound\n",
       "r       0.860759  0.026544         0.808734         0.912784\n",
       "alpha  56.190242  2.078990        52.115422        60.265063\n",
       "a       0.040686  0.015445         0.010414         0.070959\n",
       "b       1.925118  1.149928        -0.328741         4.178977"
      ]
     },
     "execution_count": 46,
     "metadata": {},
     "output_type": "execute_result"
    }
   ],
   "source": [
    "bgf.summary"
   ]
  },
  {
   "cell_type": "code",
   "execution_count": 47,
   "id": "eb3afda1",
   "metadata": {},
   "outputs": [
    {
     "data": {
      "text/plain": [
       "<AxesSubplot:title={'center':'Expected Number of Future Purchases for 1 Unit of Time,\\nby Frequency and Recency of a Customer'}, xlabel=\"Customer's Historical Frequency\", ylabel=\"Customer's Recency\">"
      ]
     },
     "execution_count": 47,
     "metadata": {},
     "output_type": "execute_result"
    },
    {
     "data": {
      "image/png": "[encoded data removed]",
      "text/plain": [
       "<Figure size 720x576 with 2 Axes>"
      ]
     },
     "metadata": {
      "needs_background": "light"
     },
     "output_type": "display_data"
    }
   ],
   "source": [
    "plt.figure(figsize=(10,8))\n",
    "plot_frequency_recency_matrix(bgf)"
   ]
  },
  {
   "cell_type": "code",
   "execution_count": 48,
   "id": "0ca4a987",
   "metadata": {},
   "outputs": [],
   "source": [
    "t = 30\n",
    "summary_bgf[\"predicted_purchases\"] = bgf.conditional_expected_number_of_purchases_up_to_time(t, summary_bgf[\"frequency\"], summary_bgf[\"recency\"], summary_bgf[\"T\"])"
   ]
  },
  {
   "cell_type": "code",
   "execution_count": 49,
   "id": "866f5b80",
   "metadata": {},
   "outputs": [
    {
     "data": {
      "text/html": [
       "<div>\n",
       "<style scoped>\n",
       "    .dataframe tbody tr th:only-of-type {\n",
       "        vertical-align: middle;\n",
       "    }\n",
       "\n",
       "    .dataframe tbody tr th {\n",
       "        vertical-align: top;\n",
       "    }\n",
       "\n",
       "    .dataframe thead th {\n",
       "        text-align: right;\n",
       "    }\n",
       "</style>\n",
       "<table border=\"1\" class=\"dataframe\">\n",
       "  <thead>\n",
       "    <tr style=\"text-align: right;\">\n",
       "      <th></th>\n",
       "      <th>Customer ID</th>\n",
       "      <th>frequency</th>\n",
       "      <th>recency</th>\n",
       "      <th>T</th>\n",
       "      <th>monetary_value</th>\n",
       "      <th>predicted_purchases</th>\n",
       "    </tr>\n",
       "  </thead>\n",
       "  <tbody>\n",
       "    <tr>\n",
       "      <th>1631</th>\n",
       "      <td>14606.0</td>\n",
       "      <td>95.0</td>\n",
       "      <td>370.0</td>\n",
       "      <td>371.0</td>\n",
       "      <td>191.216105</td>\n",
       "      <td>6.719000</td>\n",
       "    </tr>\n",
       "    <tr>\n",
       "      <th>1291</th>\n",
       "      <td>14156.0</td>\n",
       "      <td>98.0</td>\n",
       "      <td>367.0</td>\n",
       "      <td>373.0</td>\n",
       "      <td>1858.303571</td>\n",
       "      <td>6.889293</td>\n",
       "    </tr>\n",
       "    <tr>\n",
       "      <th>254</th>\n",
       "      <td>12748.0</td>\n",
       "      <td>98.0</td>\n",
       "      <td>370.0</td>\n",
       "      <td>370.0</td>\n",
       "      <td>210.991122</td>\n",
       "      <td>6.946341</td>\n",
       "    </tr>\n",
       "    <tr>\n",
       "      <th>2165</th>\n",
       "      <td>15311.0</td>\n",
       "      <td>114.0</td>\n",
       "      <td>373.0</td>\n",
       "      <td>373.0</td>\n",
       "      <td>467.286930</td>\n",
       "      <td>8.014684</td>\n",
       "    </tr>\n",
       "    <tr>\n",
       "      <th>1869</th>\n",
       "      <td>14911.0</td>\n",
       "      <td>143.0</td>\n",
       "      <td>373.0</td>\n",
       "      <td>373.0</td>\n",
       "      <td>957.638322</td>\n",
       "      <td>10.038942</td>\n",
       "    </tr>\n",
       "  </tbody>\n",
       "</table>\n",
       "</div>"
      ],
      "text/plain": [
       "      Customer ID  frequency  recency      T  monetary_value  \\\n",
       "1631      14606.0       95.0    370.0  371.0      191.216105   \n",
       "1291      14156.0       98.0    367.0  373.0     1858.303571   \n",
       "254       12748.0       98.0    370.0  370.0      210.991122   \n",
       "2165      15311.0      114.0    373.0  373.0      467.286930   \n",
       "1869      14911.0      143.0    373.0  373.0      957.638322   \n",
       "\n",
       "      predicted_purchases  \n",
       "1631             6.719000  \n",
       "1291             6.889293  \n",
       "254              6.946341  \n",
       "2165             8.014684  \n",
       "1869            10.038942  "
      ]
     },
     "execution_count": 49,
     "metadata": {},
     "output_type": "execute_result"
    }
   ],
   "source": [
    "summary_bgf.sort_values(by = \"predicted_purchases\").tail(5)"
   ]
  },
  {
   "cell_type": "code",
   "execution_count": 50,
   "id": "8dbf08e3",
   "metadata": {},
   "outputs": [],
   "source": [
    "summary_bgf[\"actual_30\"] = summary_bgf[\"frequency\"]/summary_bgf[\"recency\"]*30"
   ]
  },
  {
   "cell_type": "code",
   "execution_count": 51,
   "id": "d580bff0",
   "metadata": {},
   "outputs": [
    {
     "data": {
      "text/html": [
       "<div>\n",
       "<style scoped>\n",
       "    .dataframe tbody tr th:only-of-type {\n",
       "        vertical-align: middle;\n",
       "    }\n",
       "\n",
       "    .dataframe tbody tr th {\n",
       "        vertical-align: top;\n",
       "    }\n",
       "\n",
       "    .dataframe thead th {\n",
       "        text-align: right;\n",
       "    }\n",
       "</style>\n",
       "<table border=\"1\" class=\"dataframe\">\n",
       "  <thead>\n",
       "    <tr style=\"text-align: right;\">\n",
       "      <th></th>\n",
       "      <th>Customer ID</th>\n",
       "      <th>frequency</th>\n",
       "      <th>recency</th>\n",
       "      <th>T</th>\n",
       "      <th>monetary_value</th>\n",
       "      <th>predicted_purchases</th>\n",
       "      <th>actual_30</th>\n",
       "    </tr>\n",
       "  </thead>\n",
       "  <tbody>\n",
       "    <tr>\n",
       "      <th>0</th>\n",
       "      <td>12346.0</td>\n",
       "      <td>9.0</td>\n",
       "      <td>294.0</td>\n",
       "      <td>360.0</td>\n",
       "      <td>-17.186667</td>\n",
       "      <td>0.694162</td>\n",
       "      <td>0.918367</td>\n",
       "    </tr>\n",
       "    <tr>\n",
       "      <th>1</th>\n",
       "      <td>12347.0</td>\n",
       "      <td>1.0</td>\n",
       "      <td>37.0</td>\n",
       "      <td>39.0</td>\n",
       "      <td>711.790000</td>\n",
       "      <td>0.570597</td>\n",
       "      <td>0.810811</td>\n",
       "    </tr>\n",
       "    <tr>\n",
       "      <th>2</th>\n",
       "      <td>12348.0</td>\n",
       "      <td>0.0</td>\n",
       "      <td>0.0</td>\n",
       "      <td>73.0</td>\n",
       "      <td>0.000000</td>\n",
       "      <td>0.199050</td>\n",
       "      <td>NaN</td>\n",
       "    </tr>\n",
       "    <tr>\n",
       "      <th>3</th>\n",
       "      <td>12349.0</td>\n",
       "      <td>3.0</td>\n",
       "      <td>328.0</td>\n",
       "      <td>370.0</td>\n",
       "      <td>890.380000</td>\n",
       "      <td>0.267256</td>\n",
       "      <td>0.274390</td>\n",
       "    </tr>\n",
       "    <tr>\n",
       "      <th>4</th>\n",
       "      <td>12351.0</td>\n",
       "      <td>0.0</td>\n",
       "      <td>0.0</td>\n",
       "      <td>10.0</td>\n",
       "      <td>0.000000</td>\n",
       "      <td>0.387149</td>\n",
       "      <td>NaN</td>\n",
       "    </tr>\n",
       "  </tbody>\n",
       "</table>\n",
       "</div>"
      ],
      "text/plain": [
       "   Customer ID  frequency  recency      T  monetary_value  \\\n",
       "0      12346.0        9.0    294.0  360.0      -17.186667   \n",
       "1      12347.0        1.0     37.0   39.0      711.790000   \n",
       "2      12348.0        0.0      0.0   73.0        0.000000   \n",
       "3      12349.0        3.0    328.0  370.0      890.380000   \n",
       "4      12351.0        0.0      0.0   10.0        0.000000   \n",
       "\n",
       "   predicted_purchases  actual_30  \n",
       "0             0.694162   0.918367  \n",
       "1             0.570597   0.810811  \n",
       "2             0.199050        NaN  \n",
       "3             0.267256   0.274390  \n",
       "4             0.387149        NaN  "
      ]
     },
     "execution_count": 51,
     "metadata": {},
     "output_type": "execute_result"
    }
   ],
   "source": [
    "summary_bgf.head()"
   ]
  },
  {
   "cell_type": "code",
   "execution_count": 52,
   "id": "7abace92",
   "metadata": {},
   "outputs": [],
   "source": [
    "summary_bgf = summary_bgf.fillna(value = 0)"
   ]
  },
  {
   "cell_type": "code",
   "execution_count": 53,
   "id": "3b60209f",
   "metadata": {},
   "outputs": [],
   "source": [
    "summary_bgf[\"Error\"] = summary_bgf[\"actual_30\"] - summary_bgf[\"predicted_purchases\"]"
   ]
  },
  {
   "cell_type": "code",
   "execution_count": 54,
   "id": "cfca6a74",
   "metadata": {},
   "outputs": [],
   "source": [
    "mse = mean_squared_error(summary_bgf[\"actual_30\"],summary_bgf[\"predicted_purchases\"])"
   ]
  },
  {
   "cell_type": "code",
   "execution_count": 55,
   "id": "727171a6",
   "metadata": {},
   "outputs": [
    {
     "name": "stdout",
     "output_type": "stream",
     "text": [
      "Mean Squared Error: 4.051990707259228\n",
      "Average Error:  0.4093050827299788\n",
      "Root Mean Squared Error: 2.0129557141823136\n"
     ]
    }
   ],
   "source": [
    "print(\"Mean Squared Error: %s\" % mse)\n",
    "print(\"Average Error:  %s\" % summary_bgf[\"Error\"].mean())\n",
    "print(\"Root Mean Squared Error: %s\" % sqrt(mse))"
   ]
  },
  {
   "cell_type": "code",
   "execution_count": 56,
   "id": "56d203ed",
   "metadata": {},
   "outputs": [],
   "source": [
    "bgf_mse_purchase_30 = mean_squared_error(summary_bgf[\"actual_30\"],summary_bgf[\"predicted_purchases\"])\n",
    "bgf_rmse_purchase_30 = sqrt(bgf_mse_purchase_30)\n",
    "bgf_avg_error_purchase_30 = summary_bgf[\"Error\"].mean()"
   ]
  },
  {
   "cell_type": "code",
   "execution_count": 57,
   "id": "0cdbed48",
   "metadata": {},
   "outputs": [],
   "source": [
    "res_summary = summary_bgf[summary_bgf[\"frequency\"] > 0]"
   ]
  },
  {
   "cell_type": "code",
   "execution_count": 58,
   "id": "5af8cea6",
   "metadata": {},
   "outputs": [],
   "source": [
    "final_summary = res_summary[res_summary[\"monetary_value\"] > 0]"
   ]
  },
  {
   "cell_type": "code",
   "execution_count": 59,
   "id": "cd9b82cf",
   "metadata": {},
   "outputs": [
    {
     "data": {
      "text/plain": [
       "<AxesSubplot:>"
      ]
     },
     "execution_count": 59,
     "metadata": {},
     "output_type": "execute_result"
    },
    {
     "data": {
      "image/png": "[encoded data removed]",
      "text/plain": [
       "<Figure size 432x288 with 2 Axes>"
      ]
     },
     "metadata": {
      "needs_background": "light"
     },
     "output_type": "display_data"
    }
   ],
   "source": [
    "sns.heatmap(final_summary[[\"frequency\", \"monetary_value\"]].corr(), annot = True)"
   ]
  },
  {
   "cell_type": "code",
   "execution_count": null,
   "id": "e7f13a55",
   "metadata": {},
   "outputs": [],
   "source": []
  },
  {
   "cell_type": "markdown",
   "id": "3c682376",
   "metadata": {},
   "source": [
    "# Gamma - Gamma Model"
   ]
  },
  {
   "cell_type": "code",
   "execution_count": 60,
   "id": "ce61a5e4",
   "metadata": {},
   "outputs": [],
   "source": [
    "ggf = lifetimes.GammaGammaFitter(penalizer_coef = 0.0)"
   ]
  },
  {
   "cell_type": "code",
   "execution_count": 61,
   "id": "c287fe56",
   "metadata": {},
   "outputs": [
    {
     "data": {
      "text/plain": [
       "<lifetimes.GammaGammaFitter: fitted with 2819 subjects, p: 1.53, q: 3.67, v: 601.28>"
      ]
     },
     "execution_count": 61,
     "metadata": {},
     "output_type": "execute_result"
    }
   ],
   "source": [
    "ggf.fit(final_summary[\"frequency\"], final_summary[\"monetary_value\"])"
   ]
  },
  {
   "cell_type": "code",
   "execution_count": 62,
   "id": "fea916a9",
   "metadata": {},
   "outputs": [
    {
     "data": {
      "text/html": [
       "<div>\n",
       "<style scoped>\n",
       "    .dataframe tbody tr th:only-of-type {\n",
       "        vertical-align: middle;\n",
       "    }\n",
       "\n",
       "    .dataframe tbody tr th {\n",
       "        vertical-align: top;\n",
       "    }\n",
       "\n",
       "    .dataframe thead th {\n",
       "        text-align: right;\n",
       "    }\n",
       "</style>\n",
       "<table border=\"1\" class=\"dataframe\">\n",
       "  <thead>\n",
       "    <tr style=\"text-align: right;\">\n",
       "      <th></th>\n",
       "      <th>coef</th>\n",
       "      <th>se(coef)</th>\n",
       "      <th>lower 95% bound</th>\n",
       "      <th>upper 95% bound</th>\n",
       "    </tr>\n",
       "  </thead>\n",
       "  <tbody>\n",
       "    <tr>\n",
       "      <th>p</th>\n",
       "      <td>1.525624</td>\n",
       "      <td>0.077901</td>\n",
       "      <td>1.372939</td>\n",
       "      <td>1.678310</td>\n",
       "    </tr>\n",
       "    <tr>\n",
       "      <th>q</th>\n",
       "      <td>3.666000</td>\n",
       "      <td>0.159261</td>\n",
       "      <td>3.353848</td>\n",
       "      <td>3.978153</td>\n",
       "    </tr>\n",
       "    <tr>\n",
       "      <th>v</th>\n",
       "      <td>601.280577</td>\n",
       "      <td>53.615160</td>\n",
       "      <td>496.194862</td>\n",
       "      <td>706.366291</td>\n",
       "    </tr>\n",
       "  </tbody>\n",
       "</table>\n",
       "</div>"
      ],
      "text/plain": [
       "         coef   se(coef)  lower 95% bound  upper 95% bound\n",
       "p    1.525624   0.077901         1.372939         1.678310\n",
       "q    3.666000   0.159261         3.353848         3.978153\n",
       "v  601.280577  53.615160       496.194862       706.366291"
      ]
     },
     "execution_count": 62,
     "metadata": {},
     "output_type": "execute_result"
    }
   ],
   "source": [
    "ggf.summary"
   ]
  },
  {
   "cell_type": "code",
   "execution_count": 63,
   "id": "39c89eb2",
   "metadata": {},
   "outputs": [],
   "source": [
    "summary_ = summary_bgf[(summary_bgf[\"monetary_value\"] > 0) & (summary_bgf[\"frequency\"] > 0)]"
   ]
  },
  {
   "cell_type": "code",
   "execution_count": 64,
   "id": "584a9707",
   "metadata": {},
   "outputs": [
    {
     "data": {
      "text/plain": [
       "(2819, 8)"
      ]
     },
     "execution_count": 64,
     "metadata": {},
     "output_type": "execute_result"
    }
   ],
   "source": [
    "summary_.shape"
   ]
  },
  {
   "cell_type": "code",
   "execution_count": 65,
   "id": "6d4076de",
   "metadata": {},
   "outputs": [],
   "source": [
    "summary_[\"Expected_Avg_Sales\"] = ggf.conditional_expected_average_profit(summary_[\"frequency\"],summary_[\"monetary_value\"])\n"
   ]
  },
  {
   "cell_type": "code",
   "execution_count": 66,
   "id": "b00fdb03",
   "metadata": {},
   "outputs": [
    {
     "data": {
      "text/html": [
       "<div>\n",
       "<style scoped>\n",
       "    .dataframe tbody tr th:only-of-type {\n",
       "        vertical-align: middle;\n",
       "    }\n",
       "\n",
       "    .dataframe tbody tr th {\n",
       "        vertical-align: top;\n",
       "    }\n",
       "\n",
       "    .dataframe thead th {\n",
       "        text-align: right;\n",
       "    }\n",
       "</style>\n",
       "<table border=\"1\" class=\"dataframe\">\n",
       "  <thead>\n",
       "    <tr style=\"text-align: right;\">\n",
       "      <th></th>\n",
       "      <th>Customer ID</th>\n",
       "      <th>frequency</th>\n",
       "      <th>recency</th>\n",
       "      <th>T</th>\n",
       "      <th>monetary_value</th>\n",
       "      <th>predicted_purchases</th>\n",
       "      <th>actual_30</th>\n",
       "      <th>Error</th>\n",
       "      <th>Expected_Avg_Sales</th>\n",
       "    </tr>\n",
       "  </thead>\n",
       "  <tbody>\n",
       "    <tr>\n",
       "      <th>1</th>\n",
       "      <td>12347.0</td>\n",
       "      <td>1.0</td>\n",
       "      <td>37.0</td>\n",
       "      <td>39.0</td>\n",
       "      <td>711.790</td>\n",
       "      <td>0.570597</td>\n",
       "      <td>0.810811</td>\n",
       "      <td>0.240214</td>\n",
       "      <td>477.917941</td>\n",
       "    </tr>\n",
       "    <tr>\n",
       "      <th>3</th>\n",
       "      <td>12349.0</td>\n",
       "      <td>3.0</td>\n",
       "      <td>328.0</td>\n",
       "      <td>370.0</td>\n",
       "      <td>890.380</td>\n",
       "      <td>0.267256</td>\n",
       "      <td>0.274390</td>\n",
       "      <td>0.007134</td>\n",
       "      <td>689.296157</td>\n",
       "    </tr>\n",
       "    <tr>\n",
       "      <th>5</th>\n",
       "      <td>12352.0</td>\n",
       "      <td>1.0</td>\n",
       "      <td>17.0</td>\n",
       "      <td>27.0</td>\n",
       "      <td>200.050</td>\n",
       "      <td>0.649353</td>\n",
       "      <td>1.764706</td>\n",
       "      <td>1.115353</td>\n",
       "      <td>291.660072</td>\n",
       "    </tr>\n",
       "    <tr>\n",
       "      <th>8</th>\n",
       "      <td>12356.0</td>\n",
       "      <td>2.0</td>\n",
       "      <td>44.0</td>\n",
       "      <td>59.0</td>\n",
       "      <td>1325.905</td>\n",
       "      <td>0.726450</td>\n",
       "      <td>1.363636</td>\n",
       "      <td>0.637186</td>\n",
       "      <td>868.073879</td>\n",
       "    </tr>\n",
       "    <tr>\n",
       "      <th>10</th>\n",
       "      <td>12358.0</td>\n",
       "      <td>2.0</td>\n",
       "      <td>356.0</td>\n",
       "      <td>366.0</td>\n",
       "      <td>644.590</td>\n",
       "      <td>0.200021</td>\n",
       "      <td>0.168539</td>\n",
       "      <td>-0.031481</td>\n",
       "      <td>504.461652</td>\n",
       "    </tr>\n",
       "  </tbody>\n",
       "</table>\n",
       "</div>"
      ],
      "text/plain": [
       "    Customer ID  frequency  recency      T  monetary_value  \\\n",
       "1       12347.0        1.0     37.0   39.0         711.790   \n",
       "3       12349.0        3.0    328.0  370.0         890.380   \n",
       "5       12352.0        1.0     17.0   27.0         200.050   \n",
       "8       12356.0        2.0     44.0   59.0        1325.905   \n",
       "10      12358.0        2.0    356.0  366.0         644.590   \n",
       "\n",
       "    predicted_purchases  actual_30     Error  Expected_Avg_Sales  \n",
       "1              0.570597   0.810811  0.240214          477.917941  \n",
       "3              0.267256   0.274390  0.007134          689.296157  \n",
       "5              0.649353   1.764706  1.115353          291.660072  \n",
       "8              0.726450   1.363636  0.637186          868.073879  \n",
       "10             0.200021   0.168539 -0.031481          504.461652  "
      ]
     },
     "execution_count": 66,
     "metadata": {},
     "output_type": "execute_result"
    }
   ],
   "source": [
    "summary_.head()"
   ]
  },
  {
   "cell_type": "code",
   "execution_count": 67,
   "id": "1f41bfbf",
   "metadata": {},
   "outputs": [
    {
     "name": "stdout",
     "output_type": "stream",
     "text": [
      "Expected Average Sales: 348.4002266940505\n",
      "Actual Average Sales: 342.58160627695025\n",
      "Difference: -5.818620417100249\n",
      "Mean Squared Error: 18124.366876107306\n",
      "Root Mean Squared Error: 134.62676879472116\n"
     ]
    }
   ],
   "source": [
    "print(\"Expected Average Sales: %s\" % summary_[\"Expected_Avg_Sales\"].mean())\n",
    "print(\"Actual Average Sales: %s\" % summary_[\"monetary_value\"].mean())\n",
    "print(\"Difference: %s\" % (summary_[\"monetary_value\"].mean() - summary_[\"Expected_Avg_Sales\"].mean()))\n",
    "print(\"Mean Squared Error: %s\" % mean_squared_error(summary_[\"monetary_value\"], summary_[\"Expected_Avg_Sales\"]))\n",
    "print(\"Root Mean Squared Error: %s\" % sqrt(mean_squared_error(summary_[\"monetary_value\"], summary_[\"Expected_Avg_Sales\"])))"
   ]
  },
  {
   "cell_type": "code",
   "execution_count": 68,
   "id": "1060b1f7",
   "metadata": {},
   "outputs": [],
   "source": [
    "summary_[\"predicted_clv\"] = ggf.customer_lifetime_value(bgf,\n",
    "                                                       summary_[\"frequency\"],\n",
    "                                                       summary_[\"recency\"],\n",
    "                                                       summary_[\"T\"],\n",
    "                                                       summary_[\"monetary_value\"],\n",
    "                                                       time = 30,\n",
    "                                                       freq = 'D',\n",
    "                                                       discount_rate = 0.01)"
   ]
  },
  {
   "cell_type": "code",
   "execution_count": 69,
   "id": "ae54a0a6",
   "metadata": {},
   "outputs": [
    {
     "data": {
      "text/html": [
       "<div>\n",
       "<style scoped>\n",
       "    .dataframe tbody tr th:only-of-type {\n",
       "        vertical-align: middle;\n",
       "    }\n",
       "\n",
       "    .dataframe tbody tr th {\n",
       "        vertical-align: top;\n",
       "    }\n",
       "\n",
       "    .dataframe thead th {\n",
       "        text-align: right;\n",
       "    }\n",
       "</style>\n",
       "<table border=\"1\" class=\"dataframe\">\n",
       "  <thead>\n",
       "    <tr style=\"text-align: right;\">\n",
       "      <th></th>\n",
       "      <th>Customer ID</th>\n",
       "      <th>frequency</th>\n",
       "      <th>recency</th>\n",
       "      <th>T</th>\n",
       "      <th>monetary_value</th>\n",
       "      <th>predicted_purchases</th>\n",
       "      <th>actual_30</th>\n",
       "      <th>Error</th>\n",
       "      <th>Expected_Avg_Sales</th>\n",
       "      <th>predicted_clv</th>\n",
       "    </tr>\n",
       "  </thead>\n",
       "  <tbody>\n",
       "    <tr>\n",
       "      <th>1</th>\n",
       "      <td>12347.0</td>\n",
       "      <td>1.0</td>\n",
       "      <td>37.0</td>\n",
       "      <td>39.0</td>\n",
       "      <td>711.790</td>\n",
       "      <td>0.570597</td>\n",
       "      <td>0.810811</td>\n",
       "      <td>0.240214</td>\n",
       "      <td>477.917941</td>\n",
       "      <td>6656.286885</td>\n",
       "    </tr>\n",
       "    <tr>\n",
       "      <th>3</th>\n",
       "      <td>12349.0</td>\n",
       "      <td>3.0</td>\n",
       "      <td>328.0</td>\n",
       "      <td>370.0</td>\n",
       "      <td>890.380</td>\n",
       "      <td>0.267256</td>\n",
       "      <td>0.274390</td>\n",
       "      <td>0.007134</td>\n",
       "      <td>689.296157</td>\n",
       "      <td>4639.627868</td>\n",
       "    </tr>\n",
       "    <tr>\n",
       "      <th>5</th>\n",
       "      <td>12352.0</td>\n",
       "      <td>1.0</td>\n",
       "      <td>17.0</td>\n",
       "      <td>27.0</td>\n",
       "      <td>200.050</td>\n",
       "      <td>0.649353</td>\n",
       "      <td>1.764706</td>\n",
       "      <td>1.115353</td>\n",
       "      <td>291.660072</td>\n",
       "      <td>4607.565030</td>\n",
       "    </tr>\n",
       "    <tr>\n",
       "      <th>8</th>\n",
       "      <td>12356.0</td>\n",
       "      <td>2.0</td>\n",
       "      <td>44.0</td>\n",
       "      <td>59.0</td>\n",
       "      <td>1325.905</td>\n",
       "      <td>0.726450</td>\n",
       "      <td>1.363636</td>\n",
       "      <td>0.637186</td>\n",
       "      <td>868.073879</td>\n",
       "      <td>15459.397237</td>\n",
       "    </tr>\n",
       "    <tr>\n",
       "      <th>10</th>\n",
       "      <td>12358.0</td>\n",
       "      <td>2.0</td>\n",
       "      <td>356.0</td>\n",
       "      <td>366.0</td>\n",
       "      <td>644.590</td>\n",
       "      <td>0.200021</td>\n",
       "      <td>0.168539</td>\n",
       "      <td>-0.031481</td>\n",
       "      <td>504.461652</td>\n",
       "      <td>2541.144719</td>\n",
       "    </tr>\n",
       "  </tbody>\n",
       "</table>\n",
       "</div>"
      ],
      "text/plain": [
       "    Customer ID  frequency  recency      T  monetary_value  \\\n",
       "1       12347.0        1.0     37.0   39.0         711.790   \n",
       "3       12349.0        3.0    328.0  370.0         890.380   \n",
       "5       12352.0        1.0     17.0   27.0         200.050   \n",
       "8       12356.0        2.0     44.0   59.0        1325.905   \n",
       "10      12358.0        2.0    356.0  366.0         644.590   \n",
       "\n",
       "    predicted_purchases  actual_30     Error  Expected_Avg_Sales  \\\n",
       "1              0.570597   0.810811  0.240214          477.917941   \n",
       "3              0.267256   0.274390  0.007134          689.296157   \n",
       "5              0.649353   1.764706  1.115353          291.660072   \n",
       "8              0.726450   1.363636  0.637186          868.073879   \n",
       "10             0.200021   0.168539 -0.031481          504.461652   \n",
       "\n",
       "    predicted_clv  \n",
       "1     6656.286885  \n",
       "3     4639.627868  \n",
       "5     4607.565030  \n",
       "8    15459.397237  \n",
       "10    2541.144719  "
      ]
     },
     "execution_count": 69,
     "metadata": {},
     "output_type": "execute_result"
    }
   ],
   "source": [
    "summary_.head()"
   ]
  },
  {
   "cell_type": "code",
   "execution_count": 70,
   "id": "ad3ceff4",
   "metadata": {},
   "outputs": [
    {
     "data": {
      "text/html": [
       "<div>\n",
       "<style scoped>\n",
       "    .dataframe tbody tr th:only-of-type {\n",
       "        vertical-align: middle;\n",
       "    }\n",
       "\n",
       "    .dataframe tbody tr th {\n",
       "        vertical-align: top;\n",
       "    }\n",
       "\n",
       "    .dataframe thead th {\n",
       "        text-align: right;\n",
       "    }\n",
       "</style>\n",
       "<table border=\"1\" class=\"dataframe\">\n",
       "  <thead>\n",
       "    <tr style=\"text-align: right;\">\n",
       "      <th></th>\n",
       "      <th>Customer ID</th>\n",
       "      <th>frequency</th>\n",
       "      <th>recency</th>\n",
       "      <th>T</th>\n",
       "      <th>monetary_value</th>\n",
       "      <th>predicted_purchases</th>\n",
       "      <th>actual_30</th>\n",
       "      <th>Error</th>\n",
       "      <th>Expected_Avg_Sales</th>\n",
       "      <th>predicted_clv</th>\n",
       "    </tr>\n",
       "  </thead>\n",
       "  <tbody>\n",
       "    <tr>\n",
       "      <th>2504</th>\n",
       "      <td>15794.0</td>\n",
       "      <td>1.0</td>\n",
       "      <td>1.0</td>\n",
       "      <td>372.0</td>\n",
       "      <td>102.000000</td>\n",
       "      <td>0.068700</td>\n",
       "      <td>30.000000</td>\n",
       "      <td>29.931300</td>\n",
       "      <td>255.972840</td>\n",
       "      <td>443.048517</td>\n",
       "    </tr>\n",
       "    <tr>\n",
       "      <th>3893</th>\n",
       "      <td>17622.0</td>\n",
       "      <td>2.0</td>\n",
       "      <td>2.0</td>\n",
       "      <td>233.0</td>\n",
       "      <td>194.145000</td>\n",
       "      <td>0.125199</td>\n",
       "      <td>30.000000</td>\n",
       "      <td>29.874801</td>\n",
       "      <td>264.062850</td>\n",
       "      <td>826.963515</td>\n",
       "    </tr>\n",
       "    <tr>\n",
       "      <th>1044</th>\n",
       "      <td>13804.0</td>\n",
       "      <td>1.0</td>\n",
       "      <td>1.0</td>\n",
       "      <td>71.0</td>\n",
       "      <td>30.000000</td>\n",
       "      <td>0.399631</td>\n",
       "      <td>30.000000</td>\n",
       "      <td>29.600369</td>\n",
       "      <td>229.767020</td>\n",
       "      <td>2256.937625</td>\n",
       "    </tr>\n",
       "    <tr>\n",
       "      <th>3268</th>\n",
       "      <td>16812.0</td>\n",
       "      <td>3.0</td>\n",
       "      <td>4.0</td>\n",
       "      <td>17.0</td>\n",
       "      <td>209.233333</td>\n",
       "      <td>1.537177</td>\n",
       "      <td>22.500000</td>\n",
       "      <td>20.962823</td>\n",
       "      <td>258.870023</td>\n",
       "      <td>9645.870120</td>\n",
       "    </tr>\n",
       "    <tr>\n",
       "      <th>513</th>\n",
       "      <td>13091.0</td>\n",
       "      <td>1.0</td>\n",
       "      <td>2.0</td>\n",
       "      <td>366.0</td>\n",
       "      <td>1976.000000</td>\n",
       "      <td>0.071597</td>\n",
       "      <td>15.000000</td>\n",
       "      <td>14.928403</td>\n",
       "      <td>938.052110</td>\n",
       "      <td>1691.693951</td>\n",
       "    </tr>\n",
       "    <tr>\n",
       "      <th>...</th>\n",
       "      <td>...</td>\n",
       "      <td>...</td>\n",
       "      <td>...</td>\n",
       "      <td>...</td>\n",
       "      <td>...</td>\n",
       "      <td>...</td>\n",
       "      <td>...</td>\n",
       "      <td>...</td>\n",
       "      <td>...</td>\n",
       "      <td>...</td>\n",
       "    </tr>\n",
       "    <tr>\n",
       "      <th>3546</th>\n",
       "      <td>17181.0</td>\n",
       "      <td>1.0</td>\n",
       "      <td>222.0</td>\n",
       "      <td>230.0</td>\n",
       "      <td>155.520000</td>\n",
       "      <td>0.190425</td>\n",
       "      <td>0.135135</td>\n",
       "      <td>-0.055289</td>\n",
       "      <td>275.452500</td>\n",
       "      <td>1312.054277</td>\n",
       "    </tr>\n",
       "    <tr>\n",
       "      <th>4071</th>\n",
       "      <td>17857.0</td>\n",
       "      <td>1.0</td>\n",
       "      <td>276.0</td>\n",
       "      <td>276.0</td>\n",
       "      <td>1335.200000</td>\n",
       "      <td>0.164283</td>\n",
       "      <td>0.108696</td>\n",
       "      <td>-0.055588</td>\n",
       "      <td>704.820309</td>\n",
       "      <td>2904.468536</td>\n",
       "    </tr>\n",
       "    <tr>\n",
       "      <th>1947</th>\n",
       "      <td>15012.0</td>\n",
       "      <td>1.0</td>\n",
       "      <td>203.0</td>\n",
       "      <td>211.0</td>\n",
       "      <td>191.060000</td>\n",
       "      <td>0.203921</td>\n",
       "      <td>0.147783</td>\n",
       "      <td>-0.056138</td>\n",
       "      <td>288.387984</td>\n",
       "      <td>1469.062929</td>\n",
       "    </tr>\n",
       "    <tr>\n",
       "      <th>4185</th>\n",
       "      <td>18011.0</td>\n",
       "      <td>1.0</td>\n",
       "      <td>194.0</td>\n",
       "      <td>202.0</td>\n",
       "      <td>102.790000</td>\n",
       "      <td>0.211005</td>\n",
       "      <td>0.154639</td>\n",
       "      <td>-0.056366</td>\n",
       "      <td>256.260376</td>\n",
       "      <td>1349.835222</td>\n",
       "    </tr>\n",
       "    <tr>\n",
       "      <th>3677</th>\n",
       "      <td>17341.0</td>\n",
       "      <td>1.0</td>\n",
       "      <td>174.0</td>\n",
       "      <td>175.0</td>\n",
       "      <td>513.600000</td>\n",
       "      <td>0.235844</td>\n",
       "      <td>0.172414</td>\n",
       "      <td>-0.063430</td>\n",
       "      <td>405.782780</td>\n",
       "      <td>2383.709961</td>\n",
       "    </tr>\n",
       "  </tbody>\n",
       "</table>\n",
       "<p>2819 rows × 10 columns</p>\n",
       "</div>"
      ],
      "text/plain": [
       "      Customer ID  frequency  recency      T  monetary_value  \\\n",
       "2504      15794.0        1.0      1.0  372.0      102.000000   \n",
       "3893      17622.0        2.0      2.0  233.0      194.145000   \n",
       "1044      13804.0        1.0      1.0   71.0       30.000000   \n",
       "3268      16812.0        3.0      4.0   17.0      209.233333   \n",
       "513       13091.0        1.0      2.0  366.0     1976.000000   \n",
       "...           ...        ...      ...    ...             ...   \n",
       "3546      17181.0        1.0    222.0  230.0      155.520000   \n",
       "4071      17857.0        1.0    276.0  276.0     1335.200000   \n",
       "1947      15012.0        1.0    203.0  211.0      191.060000   \n",
       "4185      18011.0        1.0    194.0  202.0      102.790000   \n",
       "3677      17341.0        1.0    174.0  175.0      513.600000   \n",
       "\n",
       "      predicted_purchases  actual_30      Error  Expected_Avg_Sales  \\\n",
       "2504             0.068700  30.000000  29.931300          255.972840   \n",
       "3893             0.125199  30.000000  29.874801          264.062850   \n",
       "1044             0.399631  30.000000  29.600369          229.767020   \n",
       "3268             1.537177  22.500000  20.962823          258.870023   \n",
       "513              0.071597  15.000000  14.928403          938.052110   \n",
       "...                   ...        ...        ...                 ...   \n",
       "3546             0.190425   0.135135  -0.055289          275.452500   \n",
       "4071             0.164283   0.108696  -0.055588          704.820309   \n",
       "1947             0.203921   0.147783  -0.056138          288.387984   \n",
       "4185             0.211005   0.154639  -0.056366          256.260376   \n",
       "3677             0.235844   0.172414  -0.063430          405.782780   \n",
       "\n",
       "      predicted_clv  \n",
       "2504     443.048517  \n",
       "3893     826.963515  \n",
       "1044    2256.937625  \n",
       "3268    9645.870120  \n",
       "513     1691.693951  \n",
       "...             ...  \n",
       "3546    1312.054277  \n",
       "4071    2904.468536  \n",
       "1947    1469.062929  \n",
       "4185    1349.835222  \n",
       "3677    2383.709961  \n",
       "\n",
       "[2819 rows x 10 columns]"
      ]
     },
     "execution_count": 70,
     "metadata": {},
     "output_type": "execute_result"
    }
   ],
   "source": [
    "summary_.sort_values(by = \"Error\", ascending = False)"
   ]
  },
  {
   "cell_type": "code",
   "execution_count": 71,
   "id": "259a1168",
   "metadata": {},
   "outputs": [],
   "source": [
    "actual = summary_[\"monetary_value\"]*summary_[\"actual_30\"]"
   ]
  },
  {
   "cell_type": "code",
   "execution_count": 72,
   "id": "267b0fbb",
   "metadata": {},
   "outputs": [],
   "source": [
    "pred = summary_[\"Expected_Avg_Sales\"]*summary_[\"predicted_purchases\"]"
   ]
  },
  {
   "cell_type": "code",
   "execution_count": 73,
   "id": "dc2b4f98",
   "metadata": {},
   "outputs": [],
   "source": [
    "error = actual - pred"
   ]
  },
  {
   "cell_type": "code",
   "execution_count": 74,
   "id": "24c45049",
   "metadata": {},
   "outputs": [],
   "source": [
    "result = pd.DataFrame([actual, pred, error], index = [\"Actual\", \"Predicted\", \"Error\"]).T"
   ]
  },
  {
   "cell_type": "code",
   "execution_count": 75,
   "id": "d642973b",
   "metadata": {},
   "outputs": [
    {
     "name": "stdout",
     "output_type": "stream",
     "text": [
      "Average Error: 124.22712422351617\n",
      "Mean Squared Error: 638099.7719534491\n",
      "Root Mean Squared Error: 798.8114746005149\n"
     ]
    }
   ],
   "source": [
    "print(\"Average Error: %s\" % result[\"Error\"].mean())\n",
    "print(\"Mean Squared Error: %s\" % mean_squared_error(result[\"Actual\"], result[\"Predicted\"]))\n",
    "print(\"Root Mean Squared Error: %s\" % sqrt(mean_squared_error(result[\"Actual\"], result[\"Predicted\"])))"
   ]
  },
  {
   "cell_type": "markdown",
   "id": "3f5ead76",
   "metadata": {},
   "source": [
    " # Pareto - Negative Binom Distribution + Gamma Gamma Distribution Model"
   ]
  },
  {
   "cell_type": "code",
   "execution_count": 76,
   "id": "63a2b391",
   "metadata": {},
   "outputs": [],
   "source": [
    "summary_pnbd = summary.copy()"
   ]
  },
  {
   "cell_type": "code",
   "execution_count": 77,
   "id": "e32aa4d8",
   "metadata": {},
   "outputs": [
    {
     "data": {
      "text/plain": [
       "<lifetimes.ParetoNBDFitter: fitted with 4383 subjects, alpha: 59.48, beta: 61698.83, r: 0.90, s: 12.12>"
      ]
     },
     "execution_count": 77,
     "metadata": {},
     "output_type": "execute_result"
    }
   ],
   "source": [
    "pareto_nbd = ParetoNBDFitter(penalizer_coef = 0.0)\n",
    "pareto_nbd.fit(summary_pnbd[\"frequency\"], summary_pnbd[\"recency\"], summary_pnbd[\"T\"])"
   ]
  },
  {
   "cell_type": "code",
   "execution_count": 78,
   "id": "d62e6120",
   "metadata": {},
   "outputs": [],
   "source": [
    "summary_pnbd[\"p_not_alive\"] = 1-pareto_nbd.conditional_probability_alive(summary_pnbd[\"frequency\"].values, summary_pnbd[\"recency\"].values, summary_pnbd[\"T\"].values)\n",
    "summary_pnbd[\"p_alive\"] = pareto_nbd.conditional_probability_alive(summary_pnbd[\"frequency\"].values, summary_pnbd[\"recency\"].values, summary_pnbd[\"T\"].values)"
   ]
  },
  {
   "cell_type": "code",
   "execution_count": 79,
   "id": "c603b3b9",
   "metadata": {},
   "outputs": [],
   "source": [
    "t = 30\n",
    "summary_pnbd[\"predicted_purchases\"] = pareto_nbd.conditional_expected_number_of_purchases_up_to_time(t, summary_pnbd[\"frequency\"].values, summary_pnbd[\"recency\"].values, summary_pnbd[\"T\"].values)"
   ]
  },
  {
   "cell_type": "code",
   "execution_count": 80,
   "id": "049f5151",
   "metadata": {},
   "outputs": [
    {
     "data": {
      "text/html": [
       "<div>\n",
       "<style scoped>\n",
       "    .dataframe tbody tr th:only-of-type {\n",
       "        vertical-align: middle;\n",
       "    }\n",
       "\n",
       "    .dataframe tbody tr th {\n",
       "        vertical-align: top;\n",
       "    }\n",
       "\n",
       "    .dataframe thead th {\n",
       "        text-align: right;\n",
       "    }\n",
       "</style>\n",
       "<table border=\"1\" class=\"dataframe\">\n",
       "  <thead>\n",
       "    <tr style=\"text-align: right;\">\n",
       "      <th></th>\n",
       "      <th>Customer ID</th>\n",
       "      <th>frequency</th>\n",
       "      <th>recency</th>\n",
       "      <th>T</th>\n",
       "      <th>monetary_value</th>\n",
       "      <th>p_not_alive</th>\n",
       "      <th>p_alive</th>\n",
       "      <th>predicted_purchases</th>\n",
       "    </tr>\n",
       "  </thead>\n",
       "  <tbody>\n",
       "    <tr>\n",
       "      <th>1631</th>\n",
       "      <td>14606.0</td>\n",
       "      <td>95.0</td>\n",
       "      <td>370.0</td>\n",
       "      <td>371.0</td>\n",
       "      <td>191.216105</td>\n",
       "      <td>0.000219</td>\n",
       "      <td>0.999781</td>\n",
       "      <td>6.661934</td>\n",
       "    </tr>\n",
       "    <tr>\n",
       "      <th>1291</th>\n",
       "      <td>14156.0</td>\n",
       "      <td>98.0</td>\n",
       "      <td>367.0</td>\n",
       "      <td>373.0</td>\n",
       "      <td>1858.303571</td>\n",
       "      <td>0.002520</td>\n",
       "      <td>0.997480</td>\n",
       "      <td>6.822833</td>\n",
       "    </tr>\n",
       "    <tr>\n",
       "      <th>254</th>\n",
       "      <td>12748.0</td>\n",
       "      <td>98.0</td>\n",
       "      <td>370.0</td>\n",
       "      <td>370.0</td>\n",
       "      <td>210.991122</td>\n",
       "      <td>0.000000</td>\n",
       "      <td>1.000000</td>\n",
       "      <td>6.887848</td>\n",
       "    </tr>\n",
       "    <tr>\n",
       "      <th>2165</th>\n",
       "      <td>15311.0</td>\n",
       "      <td>114.0</td>\n",
       "      <td>373.0</td>\n",
       "      <td>373.0</td>\n",
       "      <td>467.286930</td>\n",
       "      <td>0.000000</td>\n",
       "      <td>1.000000</td>\n",
       "      <td>7.946693</td>\n",
       "    </tr>\n",
       "    <tr>\n",
       "      <th>1869</th>\n",
       "      <td>14911.0</td>\n",
       "      <td>143.0</td>\n",
       "      <td>373.0</td>\n",
       "      <td>373.0</td>\n",
       "      <td>957.638322</td>\n",
       "      <td>0.000000</td>\n",
       "      <td>1.000000</td>\n",
       "      <td>9.952448</td>\n",
       "    </tr>\n",
       "  </tbody>\n",
       "</table>\n",
       "</div>"
      ],
      "text/plain": [
       "      Customer ID  frequency  recency      T  monetary_value  p_not_alive  \\\n",
       "1631      14606.0       95.0    370.0  371.0      191.216105     0.000219   \n",
       "1291      14156.0       98.0    367.0  373.0     1858.303571     0.002520   \n",
       "254       12748.0       98.0    370.0  370.0      210.991122     0.000000   \n",
       "2165      15311.0      114.0    373.0  373.0      467.286930     0.000000   \n",
       "1869      14911.0      143.0    373.0  373.0      957.638322     0.000000   \n",
       "\n",
       "       p_alive  predicted_purchases  \n",
       "1631  0.999781             6.661934  \n",
       "1291  0.997480             6.822833  \n",
       "254   1.000000             6.887848  \n",
       "2165  1.000000             7.946693  \n",
       "1869  1.000000             9.952448  "
      ]
     },
     "execution_count": 80,
     "metadata": {},
     "output_type": "execute_result"
    }
   ],
   "source": [
    "summary_pnbd.sort_values(by = \"predicted_purchases\").tail(5)"
   ]
  },
  {
   "cell_type": "code",
   "execution_count": 81,
   "id": "1f91f953",
   "metadata": {},
   "outputs": [],
   "source": [
    "summary_pnbd[\"actual_30_p\"] = summary_pnbd[\"frequency\"]/summary_pnbd[\"recency\"]*30"
   ]
  },
  {
   "cell_type": "code",
   "execution_count": 82,
   "id": "02d03744",
   "metadata": {},
   "outputs": [],
   "source": [
    "summary_pnbd[\"actual_30_p\"].fillna(0, inplace = True)"
   ]
  },
  {
   "cell_type": "code",
   "execution_count": 83,
   "id": "2944c885",
   "metadata": {},
   "outputs": [],
   "source": [
    "summary_pnbd[\"p_error\"] = summary_pnbd[\"actual_30_p\"]-summary_pnbd[\"predicted_purchases\"]"
   ]
  },
  {
   "cell_type": "code",
   "execution_count": 84,
   "id": "713b367c",
   "metadata": {},
   "outputs": [
    {
     "name": "stdout",
     "output_type": "stream",
     "text": [
      "Mean Squared Error: 4.039627035885881\n",
      "Root Mean Squared Error: 2.0098823437917654\n",
      "Average Purchase Error: 0.4095971379691859\n"
     ]
    }
   ],
   "source": [
    "print(\"Mean Squared Error: %s\" % mean_squared_error(summary_pnbd[\"actual_30_p\"], summary_pnbd[\"predicted_purchases\"]))\n",
    "print(\"Root Mean Squared Error: %s\" % sqrt(mean_squared_error(summary_pnbd[\"actual_30_p\"], summary_pnbd[\"predicted_purchases\"])))\n",
    "print(\"Average Purchase Error: %s\" %(summary_pnbd[\"p_error\"].mean()))"
   ]
  },
  {
   "cell_type": "code",
   "execution_count": 85,
   "id": "f31d8367",
   "metadata": {},
   "outputs": [],
   "source": [
    "pareto_mse_purchase = mean_squared_error(summary_pnbd[\"actual_30_p\"], summary_pnbd[\"predicted_purchases\"])\n",
    "pareto_rmse_purchase = sqrt(mean_squared_error(summary_pnbd[\"actual_30_p\"], summary_pnbd[\"predicted_purchases\"]))\n",
    "pareto_avg_error_purchase = summary_pnbd[\"p_error\"].mean()"
   ]
  },
  {
   "cell_type": "code",
   "execution_count": 86,
   "id": "ac847697",
   "metadata": {},
   "outputs": [],
   "source": [
    "summary_copy = summary_pnbd.copy()"
   ]
  },
  {
   "cell_type": "code",
   "execution_count": 87,
   "id": "0f0d455b",
   "metadata": {},
   "outputs": [],
   "source": [
    "summary_copy = summary_copy[(summary_copy[\"frequency\"] > 0) & (summary_copy[\"monetary_value\"] > 0)]"
   ]
  },
  {
   "cell_type": "code",
   "execution_count": 88,
   "id": "61ff2ecc",
   "metadata": {},
   "outputs": [],
   "source": [
    "ggf_p = lifetimes.GammaGammaFitter(penalizer_coef = 0.0)"
   ]
  },
  {
   "cell_type": "code",
   "execution_count": 89,
   "id": "388e1358",
   "metadata": {},
   "outputs": [
    {
     "data": {
      "text/plain": [
       "<lifetimes.GammaGammaFitter: fitted with 2819 subjects, p: 1.53, q: 3.67, v: 601.28>"
      ]
     },
     "execution_count": 89,
     "metadata": {},
     "output_type": "execute_result"
    }
   ],
   "source": [
    "ggf_p.fit(summary_copy[\"frequency\"], summary_copy[\"monetary_value\"])"
   ]
  },
  {
   "cell_type": "code",
   "execution_count": 90,
   "id": "ce4e0b7b",
   "metadata": {},
   "outputs": [
    {
     "data": {
      "text/html": [
       "<div>\n",
       "<style scoped>\n",
       "    .dataframe tbody tr th:only-of-type {\n",
       "        vertical-align: middle;\n",
       "    }\n",
       "\n",
       "    .dataframe tbody tr th {\n",
       "        vertical-align: top;\n",
       "    }\n",
       "\n",
       "    .dataframe thead th {\n",
       "        text-align: right;\n",
       "    }\n",
       "</style>\n",
       "<table border=\"1\" class=\"dataframe\">\n",
       "  <thead>\n",
       "    <tr style=\"text-align: right;\">\n",
       "      <th></th>\n",
       "      <th>coef</th>\n",
       "      <th>se(coef)</th>\n",
       "      <th>lower 95% bound</th>\n",
       "      <th>upper 95% bound</th>\n",
       "    </tr>\n",
       "  </thead>\n",
       "  <tbody>\n",
       "    <tr>\n",
       "      <th>p</th>\n",
       "      <td>1.525624</td>\n",
       "      <td>0.077901</td>\n",
       "      <td>1.372939</td>\n",
       "      <td>1.678310</td>\n",
       "    </tr>\n",
       "    <tr>\n",
       "      <th>q</th>\n",
       "      <td>3.666000</td>\n",
       "      <td>0.159261</td>\n",
       "      <td>3.353848</td>\n",
       "      <td>3.978153</td>\n",
       "    </tr>\n",
       "    <tr>\n",
       "      <th>v</th>\n",
       "      <td>601.280577</td>\n",
       "      <td>53.615160</td>\n",
       "      <td>496.194862</td>\n",
       "      <td>706.366291</td>\n",
       "    </tr>\n",
       "  </tbody>\n",
       "</table>\n",
       "</div>"
      ],
      "text/plain": [
       "         coef   se(coef)  lower 95% bound  upper 95% bound\n",
       "p    1.525624   0.077901         1.372939         1.678310\n",
       "q    3.666000   0.159261         3.353848         3.978153\n",
       "v  601.280577  53.615160       496.194862       706.366291"
      ]
     },
     "execution_count": 90,
     "metadata": {},
     "output_type": "execute_result"
    }
   ],
   "source": [
    "ggf_p.summary"
   ]
  },
  {
   "cell_type": "code",
   "execution_count": 91,
   "id": "fba0d1f3",
   "metadata": {},
   "outputs": [],
   "source": [
    "summary_copy[\"expected_avg_sales_p\"] = ggf_p.conditional_expected_average_profit(summary_copy[\"frequency\"],\n",
    "                                                                        summary_copy[\"monetary_value\"])"
   ]
  },
  {
   "cell_type": "code",
   "execution_count": 92,
   "id": "ea0f2262",
   "metadata": {},
   "outputs": [],
   "source": [
    "avg_purchase_error = summary_copy[\"monetary_value\"].mean() - summary_copy[\"expected_avg_sales_p\"].mean()"
   ]
  },
  {
   "cell_type": "code",
   "execution_count": 93,
   "id": "1e05bd2e",
   "metadata": {},
   "outputs": [
    {
     "name": "stdout",
     "output_type": "stream",
     "text": [
      "Acutal Avg Sales: 342.58160627695025\n",
      "Predicted Avg Sales: 348.4002266940505\n",
      "Mean Sqaured Error: 18124.366876107306\n",
      "Root Mean Sqaured Error: 134.62676879472116\n",
      "Avg Sales Error: -5.818620417100249\n"
     ]
    }
   ],
   "source": [
    "print(\"Acutal Avg Sales: %s\" % summary_copy[\"monetary_value\"].mean())\n",
    "print(\"Predicted Avg Sales: %s\" % summary_copy[\"expected_avg_sales_p\"].mean())\n",
    "print(\"Mean Sqaured Error: %s\" % mean_squared_error(summary_copy[\"monetary_value\"], summary_copy[\"expected_avg_sales_p\"]))\n",
    "print(\"Root Mean Sqaured Error: %s\" % sqrt(mean_squared_error(summary_copy[\"monetary_value\"], summary_copy[\"expected_avg_sales_p\"])))\n",
    "print(\"Avg Sales Error: %s\" % avg_purchase_error)"
   ]
  },
  {
   "cell_type": "code",
   "execution_count": 94,
   "id": "f0de1962",
   "metadata": {},
   "outputs": [],
   "source": [
    "actual = summary_copy[\"actual_30_p\"] * summary_copy[\"monetary_value\"]\n",
    "predicted = summary_copy[\"predicted_purchases\"] * summary_copy[\"expected_avg_sales_p\"]"
   ]
  },
  {
   "cell_type": "code",
   "execution_count": 95,
   "id": "58075df7",
   "metadata": {},
   "outputs": [],
   "source": [
    "error = actual-predicted"
   ]
  },
  {
   "cell_type": "code",
   "execution_count": 96,
   "id": "2c8dba3c",
   "metadata": {},
   "outputs": [],
   "source": [
    "result_p = pd.DataFrame([actual, predicted, error], index = [\"Actual\", \"Predicted\", \"Error\"]).T"
   ]
  },
  {
   "cell_type": "code",
   "execution_count": 97,
   "id": "656bc9bf",
   "metadata": {},
   "outputs": [
    {
     "name": "stdout",
     "output_type": "stream",
     "text": [
      "Average Error: 124.58954087769348\n",
      "Mean Squared Error: 638478.9158383743\n",
      "Root Mean Squared Error: 799.0487568592885\n"
     ]
    }
   ],
   "source": [
    "print(\"Average Error: %s\" % result_p[\"Error\"].mean())\n",
    "print(\"Mean Squared Error: %s\" % mean_squared_error(result_p[\"Actual\"], result_p[\"Predicted\"]))\n",
    "print(\"Root Mean Squared Error: %s\" % sqrt(mean_squared_error(result_p[\"Actual\"], result_p[\"Predicted\"])))"
   ]
  },
  {
   "cell_type": "code",
   "execution_count": null,
   "id": "8671c126",
   "metadata": {},
   "outputs": [],
   "source": [
    "summary_copy.head()"
   ]
  },
  {
   "cell_type": "markdown",
   "id": "78403504",
   "metadata": {},
   "source": [
    "# Modified Beta Geom + Gamma Gamma Distribution Model"
   ]
  },
  {
   "cell_type": "code",
   "execution_count": 98,
   "id": "4ce4c14e",
   "metadata": {},
   "outputs": [],
   "source": [
    "summary_mbg = summary.copy()"
   ]
  },
  {
   "cell_type": "code",
   "execution_count": 99,
   "id": "bda9d016",
   "metadata": {},
   "outputs": [
    {
     "data": {
      "text/plain": [
       "<lifetimes.ModifiedBetaGeoFitter: fitted with 4383 subjects, a: 0.07, alpha: 57.68, b: 5.57, r: 0.88>"
      ]
     },
     "execution_count": 99,
     "metadata": {},
     "output_type": "execute_result"
    }
   ],
   "source": [
    "mbg = ModifiedBetaGeoFitter(penalizer_coef = 0.0)\n",
    "mbg.fit(summary_mbg[\"frequency\"], summary_mbg[\"recency\"], summary_mbg[\"T\"])"
   ]
  },
  {
   "cell_type": "code",
   "execution_count": 100,
   "id": "1661ebd9",
   "metadata": {},
   "outputs": [
    {
     "data": {
      "text/html": [
       "<div>\n",
       "<style scoped>\n",
       "    .dataframe tbody tr th:only-of-type {\n",
       "        vertical-align: middle;\n",
       "    }\n",
       "\n",
       "    .dataframe tbody tr th {\n",
       "        vertical-align: top;\n",
       "    }\n",
       "\n",
       "    .dataframe thead th {\n",
       "        text-align: right;\n",
       "    }\n",
       "</style>\n",
       "<table border=\"1\" class=\"dataframe\">\n",
       "  <thead>\n",
       "    <tr style=\"text-align: right;\">\n",
       "      <th></th>\n",
       "      <th>coef</th>\n",
       "      <th>se(coef)</th>\n",
       "      <th>lower 95% bound</th>\n",
       "      <th>upper 95% bound</th>\n",
       "    </tr>\n",
       "  </thead>\n",
       "  <tbody>\n",
       "    <tr>\n",
       "      <th>r</th>\n",
       "      <td>0.884294</td>\n",
       "      <td>0.029521</td>\n",
       "      <td>0.826433</td>\n",
       "      <td>0.942156</td>\n",
       "    </tr>\n",
       "    <tr>\n",
       "      <th>alpha</th>\n",
       "      <td>57.684105</td>\n",
       "      <td>2.117226</td>\n",
       "      <td>53.534341</td>\n",
       "      <td>61.833868</td>\n",
       "    </tr>\n",
       "    <tr>\n",
       "      <th>a</th>\n",
       "      <td>0.068898</td>\n",
       "      <td>0.030626</td>\n",
       "      <td>0.008872</td>\n",
       "      <td>0.128924</td>\n",
       "    </tr>\n",
       "    <tr>\n",
       "      <th>b</th>\n",
       "      <td>5.566429</td>\n",
       "      <td>4.071523</td>\n",
       "      <td>-2.413756</td>\n",
       "      <td>13.546614</td>\n",
       "    </tr>\n",
       "  </tbody>\n",
       "</table>\n",
       "</div>"
      ],
      "text/plain": [
       "            coef  se(coef)  lower 95% bound  upper 95% bound\n",
       "r       0.884294  0.029521         0.826433         0.942156\n",
       "alpha  57.684105  2.117226        53.534341        61.833868\n",
       "a       0.068898  0.030626         0.008872         0.128924\n",
       "b       5.566429  4.071523        -2.413756        13.546614"
      ]
     },
     "execution_count": 100,
     "metadata": {},
     "output_type": "execute_result"
    }
   ],
   "source": [
    "mbg.summary"
   ]
  },
  {
   "cell_type": "code",
   "execution_count": 101,
   "id": "8caa9b45",
   "metadata": {},
   "outputs": [],
   "source": [
    "t = 30\n",
    "summary_mbg[\"predicted_purchases\"] = bgf.conditional_expected_number_of_purchases_up_to_time(t, summary_mbg[\"frequency\"], summary_mbg[\"recency\"], summary_mbg[\"T\"])"
   ]
  },
  {
   "cell_type": "code",
   "execution_count": 102,
   "id": "bfbe7887",
   "metadata": {},
   "outputs": [
    {
     "data": {
      "text/html": [
       "<div>\n",
       "<style scoped>\n",
       "    .dataframe tbody tr th:only-of-type {\n",
       "        vertical-align: middle;\n",
       "    }\n",
       "\n",
       "    .dataframe tbody tr th {\n",
       "        vertical-align: top;\n",
       "    }\n",
       "\n",
       "    .dataframe thead th {\n",
       "        text-align: right;\n",
       "    }\n",
       "</style>\n",
       "<table border=\"1\" class=\"dataframe\">\n",
       "  <thead>\n",
       "    <tr style=\"text-align: right;\">\n",
       "      <th></th>\n",
       "      <th>Customer ID</th>\n",
       "      <th>frequency</th>\n",
       "      <th>recency</th>\n",
       "      <th>T</th>\n",
       "      <th>monetary_value</th>\n",
       "      <th>predicted_purchases</th>\n",
       "    </tr>\n",
       "  </thead>\n",
       "  <tbody>\n",
       "    <tr>\n",
       "      <th>0</th>\n",
       "      <td>12346.0</td>\n",
       "      <td>9.0</td>\n",
       "      <td>294.0</td>\n",
       "      <td>360.0</td>\n",
       "      <td>-17.186667</td>\n",
       "      <td>0.694162</td>\n",
       "    </tr>\n",
       "    <tr>\n",
       "      <th>1</th>\n",
       "      <td>12347.0</td>\n",
       "      <td>1.0</td>\n",
       "      <td>37.0</td>\n",
       "      <td>39.0</td>\n",
       "      <td>711.790000</td>\n",
       "      <td>0.570597</td>\n",
       "    </tr>\n",
       "    <tr>\n",
       "      <th>2</th>\n",
       "      <td>12348.0</td>\n",
       "      <td>0.0</td>\n",
       "      <td>0.0</td>\n",
       "      <td>73.0</td>\n",
       "      <td>0.000000</td>\n",
       "      <td>0.199050</td>\n",
       "    </tr>\n",
       "    <tr>\n",
       "      <th>3</th>\n",
       "      <td>12349.0</td>\n",
       "      <td>3.0</td>\n",
       "      <td>328.0</td>\n",
       "      <td>370.0</td>\n",
       "      <td>890.380000</td>\n",
       "      <td>0.267256</td>\n",
       "    </tr>\n",
       "    <tr>\n",
       "      <th>4</th>\n",
       "      <td>12351.0</td>\n",
       "      <td>0.0</td>\n",
       "      <td>0.0</td>\n",
       "      <td>10.0</td>\n",
       "      <td>0.000000</td>\n",
       "      <td>0.387149</td>\n",
       "    </tr>\n",
       "    <tr>\n",
       "      <th>...</th>\n",
       "      <td>...</td>\n",
       "      <td>...</td>\n",
       "      <td>...</td>\n",
       "      <td>...</td>\n",
       "      <td>...</td>\n",
       "      <td>...</td>\n",
       "    </tr>\n",
       "    <tr>\n",
       "      <th>4378</th>\n",
       "      <td>18283.0</td>\n",
       "      <td>4.0</td>\n",
       "      <td>276.0</td>\n",
       "      <td>293.0</td>\n",
       "      <td>135.105000</td>\n",
       "      <td>0.412562</td>\n",
       "    </tr>\n",
       "    <tr>\n",
       "      <th>4379</th>\n",
       "      <td>18284.0</td>\n",
       "      <td>1.0</td>\n",
       "      <td>2.0</td>\n",
       "      <td>66.0</td>\n",
       "      <td>-25.000000</td>\n",
       "      <td>0.419553</td>\n",
       "    </tr>\n",
       "    <tr>\n",
       "      <th>4380</th>\n",
       "      <td>18285.0</td>\n",
       "      <td>0.0</td>\n",
       "      <td>0.0</td>\n",
       "      <td>295.0</td>\n",
       "      <td>0.000000</td>\n",
       "      <td>0.073412</td>\n",
       "    </tr>\n",
       "    <tr>\n",
       "      <th>4381</th>\n",
       "      <td>18286.0</td>\n",
       "      <td>2.0</td>\n",
       "      <td>247.0</td>\n",
       "      <td>358.0</td>\n",
       "      <td>362.740000</td>\n",
       "      <td>0.200121</td>\n",
       "    </tr>\n",
       "    <tr>\n",
       "      <th>4382</th>\n",
       "      <td>18287.0</td>\n",
       "      <td>3.0</td>\n",
       "      <td>356.0</td>\n",
       "      <td>373.0</td>\n",
       "      <td>781.903333</td>\n",
       "      <td>0.266270</td>\n",
       "    </tr>\n",
       "  </tbody>\n",
       "</table>\n",
       "<p>4383 rows × 6 columns</p>\n",
       "</div>"
      ],
      "text/plain": [
       "      Customer ID  frequency  recency      T  monetary_value  \\\n",
       "0         12346.0        9.0    294.0  360.0      -17.186667   \n",
       "1         12347.0        1.0     37.0   39.0      711.790000   \n",
       "2         12348.0        0.0      0.0   73.0        0.000000   \n",
       "3         12349.0        3.0    328.0  370.0      890.380000   \n",
       "4         12351.0        0.0      0.0   10.0        0.000000   \n",
       "...           ...        ...      ...    ...             ...   \n",
       "4378      18283.0        4.0    276.0  293.0      135.105000   \n",
       "4379      18284.0        1.0      2.0   66.0      -25.000000   \n",
       "4380      18285.0        0.0      0.0  295.0        0.000000   \n",
       "4381      18286.0        2.0    247.0  358.0      362.740000   \n",
       "4382      18287.0        3.0    356.0  373.0      781.903333   \n",
       "\n",
       "      predicted_purchases  \n",
       "0                0.694162  \n",
       "1                0.570597  \n",
       "2                0.199050  \n",
       "3                0.267256  \n",
       "4                0.387149  \n",
       "...                   ...  \n",
       "4378             0.412562  \n",
       "4379             0.419553  \n",
       "4380             0.073412  \n",
       "4381             0.200121  \n",
       "4382             0.266270  \n",
       "\n",
       "[4383 rows x 6 columns]"
      ]
     },
     "execution_count": 102,
     "metadata": {},
     "output_type": "execute_result"
    }
   ],
   "source": [
    "summary_mbg"
   ]
  },
  {
   "cell_type": "code",
   "execution_count": 103,
   "id": "fcb61efe",
   "metadata": {},
   "outputs": [
    {
     "data": {
      "text/plain": [
       "<AxesSubplot:title={'center':'Frequency of Repeat Transactions'}, xlabel='Number of Calibration Period Transactions', ylabel='Customers'>"
      ]
     },
     "execution_count": 103,
     "metadata": {},
     "output_type": "execute_result"
    },
    {
     "data": {
      "image/png": "[encoded data removed]",
      "text/plain": [
       "<Figure size 432x288 with 1 Axes>"
      ]
     },
     "metadata": {
      "needs_background": "light"
     },
     "output_type": "display_data"
    }
   ],
   "source": [
    "plot_period_transactions(mbg)"
   ]
  },
  {
   "cell_type": "code",
   "execution_count": 104,
   "id": "10667d0a",
   "metadata": {},
   "outputs": [],
   "source": [
    "summary_mbg[\"actual_30\"] = summary_mbg[\"frequency\"]/summary_mbg[\"recency\"]*30"
   ]
  },
  {
   "cell_type": "code",
   "execution_count": 105,
   "id": "f1dbdf7c",
   "metadata": {},
   "outputs": [],
   "source": [
    "summary_mbg = summary_mbg.fillna(value = 0)"
   ]
  },
  {
   "cell_type": "code",
   "execution_count": 106,
   "id": "27f5d08c",
   "metadata": {},
   "outputs": [],
   "source": [
    "summary_mbg[\"Error\"] = summary_mbg[\"actual_30\"] - summary_mbg[\"predicted_purchases\"]"
   ]
  },
  {
   "cell_type": "code",
   "execution_count": 107,
   "id": "28c1204e",
   "metadata": {},
   "outputs": [],
   "source": [
    "mse = mean_squared_error(summary_mbg[\"actual_30\"],summary_mbg[\"predicted_purchases\"])"
   ]
  },
  {
   "cell_type": "code",
   "execution_count": 108,
   "id": "17b27850",
   "metadata": {},
   "outputs": [
    {
     "name": "stdout",
     "output_type": "stream",
     "text": [
      "Mean Squared Error: 4.051990707259228\n",
      "Average Error:  0.4093050827299788\n",
      "Root Mean Squared Error: 2.0129557141823136\n"
     ]
    }
   ],
   "source": [
    "print(\"Mean Squared Error: %s\" % mse)\n",
    "print(\"Average Error:  %s\" % summary_mbg[\"Error\"].mean())\n",
    "print(\"Root Mean Squared Error: %s\" % sqrt(mse))"
   ]
  },
  {
   "cell_type": "code",
   "execution_count": 109,
   "id": "3491b110",
   "metadata": {},
   "outputs": [],
   "source": [
    "mbg_mse_purchase = mean_squared_error(summary_mbg[\"actual_30\"],summary_mbg[\"predicted_purchases\"])\n",
    "mbg_rmse_purchase = sqrt(mean_squared_error(summary_mbg[\"actual_30\"],summary_mbg[\"predicted_purchases\"]))\n",
    "mbg_avg_purchase_error = (summary_mbg[\"actual_30\"].mean() - summary_mbg[\"predicted_purchases\"].mean())"
   ]
  },
  {
   "cell_type": "code",
   "execution_count": 110,
   "id": "10a7426a",
   "metadata": {},
   "outputs": [],
   "source": [
    "ggf = lifetimes.GammaGammaFitter(penalizer_coef = 0.0)"
   ]
  },
  {
   "cell_type": "code",
   "execution_count": 111,
   "id": "8a3b53a0",
   "metadata": {},
   "outputs": [
    {
     "data": {
      "text/plain": [
       "<lifetimes.GammaGammaFitter: fitted with 2819 subjects, p: 1.53, q: 3.67, v: 601.28>"
      ]
     },
     "execution_count": 111,
     "metadata": {},
     "output_type": "execute_result"
    }
   ],
   "source": [
    "ggf.fit(final_summary[\"frequency\"], final_summary[\"monetary_value\"])"
   ]
  },
  {
   "cell_type": "code",
   "execution_count": 112,
   "id": "fb6b7972",
   "metadata": {},
   "outputs": [],
   "source": [
    "summary_mbg_new = summary_mbg[(summary_mbg[\"monetary_value\"] > 0) & (summary_mbg[\"frequency\"] > 0)]"
   ]
  },
  {
   "cell_type": "code",
   "execution_count": 113,
   "id": "f6b21a6b",
   "metadata": {},
   "outputs": [],
   "source": [
    "summary_mbg_new[\"Expected_Avg_Sales\"] = ggf.conditional_expected_average_profit(summary_mbg_new[\"frequency\"], \n",
    "                                                                        summary_mbg_new[\"monetary_value\"])"
   ]
  },
  {
   "cell_type": "code",
   "execution_count": 114,
   "id": "e59585ae",
   "metadata": {},
   "outputs": [
    {
     "name": "stdout",
     "output_type": "stream",
     "text": [
      "Expected Average Sales: 348.4002266940505\n",
      "Actual Average Sales: 342.58160627695025\n",
      "Difference: -5.818620417100249\n",
      "Mean Squared Error: 18124.366876107306\n",
      "Root Mean Squared Error: 134.62676879472116\n"
     ]
    }
   ],
   "source": [
    "print(\"Expected Average Sales: %s\" % summary_mbg_new[\"Expected_Avg_Sales\"].mean())\n",
    "print(\"Actual Average Sales: %s\" % summary_mbg_new[\"monetary_value\"].mean())\n",
    "print(\"Difference: %s\" % (summary_mbg_new[\"monetary_value\"].mean() - summary_mbg_new[\"Expected_Avg_Sales\"].mean()))\n",
    "print(\"Mean Squared Error: %s\" % mean_squared_error(summary_mbg_new[\"monetary_value\"], summary_mbg_new[\"Expected_Avg_Sales\"]))\n",
    "print(\"Root Mean Squared Error: %s\" % sqrt(mean_squared_error(summary_mbg_new[\"monetary_value\"], summary_mbg_new[\"Expected_Avg_Sales\"])))"
   ]
  },
  {
   "cell_type": "code",
   "execution_count": 115,
   "id": "8639f281",
   "metadata": {},
   "outputs": [],
   "source": [
    "summary_mbg_new[\"predicted_clv\"] = ggf.customer_lifetime_value(mbg,\n",
    "                                                       summary_mbg_new[\"frequency\"],\n",
    "                                                       summary_mbg_new[\"recency\"],\n",
    "                                                       summary_mbg_new[\"T\"],\n",
    "                                                       summary_mbg_new[\"monetary_value\"],\n",
    "                                                       time = 30,\n",
    "                                                       freq = 'D',\n",
    "                                                       discount_rate = 0.01)"
   ]
  },
  {
   "cell_type": "code",
   "execution_count": 116,
   "id": "fabb0c3b",
   "metadata": {
    "scrolled": true
   },
   "outputs": [],
   "source": [
    "summary_mbg_new[\"CLV\"] = summary_mbg_new[\"predicted_clv\"]*0.05"
   ]
  },
  {
   "cell_type": "code",
   "execution_count": 117,
   "id": "adf844d7",
   "metadata": {},
   "outputs": [],
   "source": [
    "actual = summary_[\"monetary_value\"]*summary_[\"actual_30\"]\n",
    "pred = summary_[\"Expected_Avg_Sales\"]*summary_[\"predicted_purchases\"]\n",
    "error = actual - pred\n",
    "result = pd.DataFrame([actual, pred, error], index = [\"Actual\", \"Predicted\", \"Error\"]).T\n"
   ]
  },
  {
   "cell_type": "code",
   "execution_count": 118,
   "id": "1eb33092",
   "metadata": {},
   "outputs": [
    {
     "name": "stdout",
     "output_type": "stream",
     "text": [
      "Average Error: 124.22712422351617\n",
      "Mean Squared Error: 638099.7719534491\n",
      "Root Mean Squared Error: 798.8114746005149\n"
     ]
    }
   ],
   "source": [
    "print(\"Average Error: %s\" % result[\"Error\"].mean())\n",
    "print(\"Mean Squared Error: %s\" % (mean_squared_error(result[\"Actual\"], result[\"Predicted\"])))\n",
    "print(\"Root Mean Squared Error: %s\" % sqrt(mean_squared_error(result[\"Actual\"], result[\"Predicted\"])))"
   ]
  },
  {
   "cell_type": "code",
   "execution_count": 119,
   "id": "9dc7b3cc",
   "metadata": {},
   "outputs": [],
   "source": [
    "indexes = [\"MSE Purchase Error\", \"RMSE Purchase Error\",\"Avg Purchase Error\"]"
   ]
  },
  {
   "cell_type": "code",
   "execution_count": 120,
   "id": "116d0355",
   "metadata": {},
   "outputs": [],
   "source": [
    "data = [[bgf_mse_purchase_30, pareto_mse_purchase, mbg_mse_purchase],\n",
    "[bgf_rmse_purchase_30, pareto_rmse_purchase, mbg_rmse_purchase], [bgf_avg_error_purchase_30, pareto_avg_error_purchase, mbg_avg_purchase_error]]"
   ]
  },
  {
   "cell_type": "code",
   "execution_count": 121,
   "id": "22768bf3",
   "metadata": {},
   "outputs": [],
   "source": [
    "model_purchase_result = pd.DataFrame(data, columns = [\"BG-NBD\", \"Pareto-NBD\", \"MBG-NBD\"], index = indexes)"
   ]
  },
  {
   "cell_type": "code",
   "execution_count": 122,
   "id": "1406ed8c",
   "metadata": {},
   "outputs": [
    {
     "data": {
      "text/html": [
       "<div>\n",
       "<style scoped>\n",
       "    .dataframe tbody tr th:only-of-type {\n",
       "        vertical-align: middle;\n",
       "    }\n",
       "\n",
       "    .dataframe tbody tr th {\n",
       "        vertical-align: top;\n",
       "    }\n",
       "\n",
       "    .dataframe thead th {\n",
       "        text-align: right;\n",
       "    }\n",
       "</style>\n",
       "<table border=\"1\" class=\"dataframe\">\n",
       "  <thead>\n",
       "    <tr style=\"text-align: right;\">\n",
       "      <th></th>\n",
       "      <th>BG-NBD</th>\n",
       "      <th>Pareto-NBD</th>\n",
       "      <th>MBG-NBD</th>\n",
       "    </tr>\n",
       "  </thead>\n",
       "  <tbody>\n",
       "    <tr>\n",
       "      <th>MSE Purchase Error</th>\n",
       "      <td>4.051991</td>\n",
       "      <td>4.039627</td>\n",
       "      <td>4.051991</td>\n",
       "    </tr>\n",
       "    <tr>\n",
       "      <th>RMSE Purchase Error</th>\n",
       "      <td>2.012956</td>\n",
       "      <td>2.009882</td>\n",
       "      <td>2.012956</td>\n",
       "    </tr>\n",
       "    <tr>\n",
       "      <th>Avg Purchase Error</th>\n",
       "      <td>0.409305</td>\n",
       "      <td>0.409597</td>\n",
       "      <td>0.409305</td>\n",
       "    </tr>\n",
       "  </tbody>\n",
       "</table>\n",
       "</div>"
      ],
      "text/plain": [
       "                       BG-NBD  Pareto-NBD   MBG-NBD\n",
       "MSE Purchase Error   4.051991    4.039627  4.051991\n",
       "RMSE Purchase Error  2.012956    2.009882  2.012956\n",
       "Avg Purchase Error   0.409305    0.409597  0.409305"
      ]
     },
     "execution_count": 122,
     "metadata": {},
     "output_type": "execute_result"
    }
   ],
   "source": [
    "model_purchase_result"
   ]
  },
  {
   "cell_type": "markdown",
   "id": "23be1d4b",
   "metadata": {},
   "source": [
    "As we can see here is that there is no much difference when it comes to the performance of these models but Pareto NBD model is slightly performing better when it comes it minimizing the MSE & RMSE Errors."
   ]
  }
 ],
 "metadata": {
  "kernelspec": {
   "display_name": "Python 3 (ipykernel)",
   "language": "python",
   "name": "python3"
  },
  "language_info": {
   "codemirror_mode": {
    "name": "ipython",
    "version": 3
   },
   "file_extension": ".py",
   "mimetype": "text/x-python",
   "name": "python",
   "nbconvert_exporter": "python",
   "pygments_lexer": "ipython3",
   "version": "3.9.7"
  }
 },
 "nbformat": 4,
 "nbformat_minor": 5
}
